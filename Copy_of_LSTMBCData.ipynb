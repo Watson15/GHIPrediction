{
  "nbformat": 4,
  "nbformat_minor": 0,
  "metadata": {
    "colab": {
      "provenance": [],
      "collapsed_sections": [
        "YCeggv1Y7dx1",
        "Sg1R8fc97Mp5"
      ],
      "authorship_tag": "ABX9TyOqz0/SYAQWzPZ7OKCk0N7k",
      "include_colab_link": true
    },
    "kernelspec": {
      "name": "python3",
      "display_name": "Python 3"
    },
    "language_info": {
      "name": "python"
    }
  },
  "cells": [
    {
      "cell_type": "markdown",
      "metadata": {
        "id": "view-in-github",
        "colab_type": "text"
      },
      "source": [
        "<a href=\"https://colab.research.google.com/github/Watson15/GHIPrediction/blob/main/Copy_of_LSTMBCData.ipynb\" target=\"_parent\"><img src=\"https://colab.research.google.com/assets/colab-badge.svg\" alt=\"Open In Colab\"/></a>"
      ]
    },
    {
      "cell_type": "code",
      "execution_count": 1,
      "metadata": {
        "id": "w7bcpJvoB-_o"
      },
      "outputs": [],
      "source": [
        "import numpy as np\n",
        "import random, os\n",
        "import matplotlib.pyplot as plt\n",
        "import pandas as pd\n",
        "import glob\n",
        "import torch\n",
        "import torch.nn as nn\n",
        "import torch.nn.functional as F\n",
        "import torch.optim as optim\n",
        "from torch.utils.data import DataLoader\n",
        "from torch.utils.data import Dataset\n",
        "from tqdm import tqdm\n",
        "from sklearn.model_selection import train_test_split\n",
        "from sklearn.linear_model import LinearRegression\n",
        "from sklearn.metrics import mean_squared_error, r2_score"
      ]
    },
    {
      "cell_type": "code",
      "source": [
        "from google.colab import drive\n",
        "drive.mount('/content/drive')"
      ],
      "metadata": {
        "colab": {
          "base_uri": "https://localhost:8080/"
        },
        "id": "ciFg8avRCEUv",
        "outputId": "f377006f-6018-4272-e64d-69a9ead58df2"
      },
      "execution_count": 2,
      "outputs": [
        {
          "output_type": "stream",
          "name": "stdout",
          "text": [
            "Mounted at /content/drive\n"
          ]
        }
      ]
    },
    {
      "cell_type": "markdown",
      "source": [
        "##Start of Load data and Preprocessing (can add more hashtags to change level of heading to have subheadings) (More hashes the \"less important\")"
      ],
      "metadata": {
        "id": "YCeggv1Y7dx1"
      }
    },
    {
      "cell_type": "code",
      "source": [
        "path = r'/content/drive/MyDrive/Colab Notebooks/CWEEDS_2020_BC'\n",
        "csv_files = glob.glob(os.path.join(path, \"*.csv\"))\n",
        "#print(csv_files)"
      ],
      "metadata": {
        "id": "1EaPWscnCFXa"
      },
      "execution_count": 3,
      "outputs": []
    },
    {
      "cell_type": "code",
      "source": [
        "import re\n",
        "def getStationTimePeriodFromYears(csv_file):\n",
        "  match = re.search(r'(\\d{4})-(\\d{4})', csv_file)\n",
        "  if match:\n",
        "    start_year = int(match.group(1))\n",
        "    end_year = int(match.group(2))\n",
        "    #print(start_year, end_year)  # Output: 2005 2017\n",
        "    return (start_year, end_year)"
      ],
      "metadata": {
        "id": "p5XTP-Zxc-cH"
      },
      "execution_count": 4,
      "outputs": []
    },
    {
      "cell_type": "code",
      "source": [
        "# def get_stations_name_Lat_Long(csv_files):\n",
        "#   DegreeLatitudes = []\n",
        "#   DegreeLongitudes = []\n",
        "#   DegreeLogitudesTimes2 = []\n",
        "#   #FileName = []\n",
        "#   Station = []\n",
        "#   StationTimePeriodStart = []\n",
        "#   StationTimePeriodEnd = []\n",
        "#   for f in csv_files:\n",
        "#       df = pd.read_csv(f, delimiter=',', nrows=2, on_bad_lines='skip')\n",
        "#       #The ratio between longitude and latitude is 360:180; meaning for every 1 degree of latitude, there are 2 degrees of longitude, as there are 360 degrees of longitude and 180 degrees of latitude on Earth.\n",
        "#       #Therefore when getting latitude data we multiply it by 2 to make it more accurate for distance calcs\n",
        "#       TimePeriod = getStationTimePeriodFromYears(f)\n",
        "#       StationTimePeriodStart.append(TimePeriod[0])\n",
        "#       StationTimePeriodEnd.append(TimePeriod[1])\n",
        "#       DegreeLatitudes.append(df['Degree latitude'][0])\n",
        "#       DegreeLogitudesTimes2.append(df['Degree longitude'][0]*2)#Multiplied by 2 for training model but take away when analyzing and wanting to find real location for elevation\n",
        "#       DegreeLongitudes.append(df['Degree longitude'][0])# Not Multiplied by 2 for analyzing and wanting to find real location for elevation\n",
        "#       #FileName.append(f.split(\"\\\\\")[-1])\n",
        "#       Station.append(df['Climate station name'][0])\n",
        "#   return pd.DataFrame({'Latitude': DegreeLatitudes, 'Longitude': DegreeLongitudes, 'LongitudeTimes2': DegreeLogitudesTimes2, \"station\": Station, \"StartTime\": StationTimePeriodStart, \"EndTime\": StationTimePeriodEnd})"
      ],
      "metadata": {
        "id": "2khthH4OCOID"
      },
      "execution_count": 5,
      "outputs": []
    },
    {
      "cell_type": "code",
      "source": [
        "# stationsName_lat_long_datadf = get_stations_name_Lat_Long(csv_files)\n",
        "# lat_min = stationsName_lat_long_datadf[\"Latitude\"].min()\n",
        "# lat_max = stationsName_lat_long_datadf[\"Latitude\"].max()\n",
        "# long_min = stationsName_lat_long_datadf[\"Longitude\"].min()\n",
        "# long_max = stationsName_lat_long_datadf[\"Longitude\"].max()"
      ],
      "metadata": {
        "id": "7K7NaVH-0dXf"
      },
      "execution_count": 6,
      "outputs": []
    },
    {
      "cell_type": "code",
      "source": [
        "# def normalize_lat_lon(lat, lon):\n",
        "#     norm_lat = (lat - lat_min) / (lat_max - lat_min)\n",
        "#     norm_lon = (lon - long_min) / (long_max - long_min)\n",
        "#     return norm_lat, norm_lon"
      ],
      "metadata": {
        "id": "DzC4243ryUJ5"
      },
      "execution_count": 7,
      "outputs": []
    },
    {
      "cell_type": "code",
      "source": [
        "# stationsName_lat_long_datadf[['norm_lat', 'norm_long']] = stationsName_lat_long_datadf.apply(lambda row: normalize_lat_lon(row['Latitude'], row['Longitude']), axis=1, result_type='expand')"
      ],
      "metadata": {
        "id": "sF2CZfX_1wm4"
      },
      "execution_count": 8,
      "outputs": []
    },
    {
      "cell_type": "code",
      "source": [
        "file_path = '/content/drive/MyDrive/Colab Notebooks/stationsName_lat_long_data.csv'\n",
        "stationsName_lat_long_datadf = pd.read_csv(file_path, delimiter=',', on_bad_lines='skip')"
      ],
      "metadata": {
        "id": "nYI5s_u6h_9t"
      },
      "execution_count": 9,
      "outputs": []
    },
    {
      "cell_type": "code",
      "source": [
        "def plot_stations_matplotlib(center_latlon, neighbors_df, all_stations_df, figsize=(8, 6)):\n",
        "    center_lat, center_lon = center_latlon\n",
        "\n",
        "    # Create set of picked station names for easy lookup\n",
        "    picked_names = set(neighbors_df['station'])\n",
        "\n",
        "    plt.figure(figsize=figsize)\n",
        "\n",
        "    # Plot unpicked stations (from all_stations_df, excluding the neighbors and center)\n",
        "    for _, row in all_stations_df.iterrows():\n",
        "        if (row['Latitude'], row['Longitude']) == tuple(center_latlon):\n",
        "            continue\n",
        "        if row['station'] not in picked_names:\n",
        "            plt.scatter(row['Longitude'], row['Latitude'], color='gray', alpha=0.9, label='_nolegend_')\n",
        "            #plt.text(row['Longitude'] + 0.002, row['Latitude'], row['station'], fontsize=8, color='gray')\n",
        "\n",
        "    # Plot the selected neighbor stations\n",
        "    plt.scatter(\n",
        "        neighbors_df['Longitude'],\n",
        "        neighbors_df['Latitude'],\n",
        "        color='blue',\n",
        "        label='Picked Neighbors'\n",
        "    )\n",
        "    # for _, row in neighbors_df.iterrows():\n",
        "    #     plt.text(row['Longitude'] + 0.002, row['Latitude'], row['station'], fontsize=9)\n",
        "\n",
        "    # Plot the target station\n",
        "    plt.scatter(center_lon, center_lat, color='red', marker='*', s=150, label='Target Station')\n",
        "    #plt.text(center_lon + 0.002, center_lat, 'Target', fontsize=10, fontweight='bold')\n",
        "\n",
        "    plt.xlabel('Longitude')\n",
        "    plt.ylabel('Latitude')\n",
        "    plt.title('Target Station and Spatially Diverse Neighbors')\n",
        "    plt.legend()\n",
        "    plt.grid(True)\n",
        "    plt.gca().set_aspect('equal', adjustable='datalim')\n",
        "    plt.show()"
      ],
      "metadata": {
        "id": "A6Q74ss0TP46"
      },
      "execution_count": 10,
      "outputs": []
    },
    {
      "cell_type": "code",
      "source": [
        "# Euclidean distance function\n",
        "def euclidean_distance(lat1, lon1, lat2, lon2):\n",
        "    distance_vector = ((lat2 - lat1), lon2 - lon1)\n",
        "    return ((np.sqrt((lat2 - lat1)**2) + (lon2 - lon1)**2), distance_vector)\n",
        "\n",
        "# Function to find the K nearest stations (not returning nearest station given)\n",
        "def find_k_nearest_stations(df, station_name, k):\n",
        "    if station_name not in df['station'].values:\n",
        "        return f\"Station {station_name} not found in the dataset.\"\n",
        "\n",
        "    # Get the coordinates of the given station\n",
        "    station_coords = df[df['station'] == station_name][['Latitude', 'Longitude']].values[0]\n",
        "    lat1, lon1 = station_coords\n",
        "\n",
        "    # Calculate the distance from the given station to all other stations\n",
        "    df['distance'] = df.apply(lambda row: euclidean_distance(lat1, lon1, row['Latitude'], row['Longitude']), axis=1)\n",
        "\n",
        "    # station_coords = df[df['station'] == station_name][['norm_lat', 'norm_long']].values[0]\n",
        "    # lat1, lon1 = station_coords\n",
        "\n",
        "    # # Calculate the distance from the given station to all other stations\n",
        "    # df['distance'] = df.apply(lambda row: euclidean_distance(lat1, lon1, row['norm_lat'], row['norm_long']), axis=1)\n",
        "\n",
        "    # Sort the DataFrame by distance and get the K nearest stations\n",
        "    #nearest_stations = df[df['station'] != station_name].sort_values(by='distance').head(k)\n",
        "    nearest_stations = df[df['station'] != station_name].sort_values(by='distance', key=lambda x: x.apply(lambda y: y[0])).head(k)\n",
        "\n",
        "    return nearest_stations[['station', 'norm_lat', 'norm_long', 'distance', 'StartTime', 'EndTime']]"
      ],
      "metadata": {
        "id": "WSjRaE9RCQxu"
      },
      "execution_count": 11,
      "outputs": []
    },
    {
      "cell_type": "code",
      "source": [
        "def latlon_to_xy(lat, lon, lat0):\n",
        "    \"\"\"Simple equirectangular projection.\"\"\"\n",
        "    R = 6371  # radius in km\n",
        "    x = R * np.radians(lon) * np.cos(np.radians(lat0))\n",
        "    y = R * np.radians(lat)\n",
        "    return x, y\n",
        "\n",
        "def compute_angle(vec1, vec2):\n",
        "    norm1 = np.linalg.norm(vec1)\n",
        "    norm2 = np.linalg.norm(vec2)\n",
        "    if norm1 == 0 or norm2 == 0:\n",
        "        return 0  # Could return np.pi to maximize diversity if desired\n",
        "    unit1 = vec1 / norm1\n",
        "    unit2 = vec2 / norm2\n",
        "    return np.arccos(np.clip(np.dot(unit1, unit2), -1.0, 1.0))\n",
        "\n",
        "def makeDistanceTuple(distance, x, y):\n",
        "  return (distance, (x,y))\n",
        "\n",
        "def spatially_diverse_knn(df,station_name, k=3, candidate_pool=len(csv_files)):\n",
        "  # spatially_diverse_knn_df\n",
        "  #\n",
        "  # This function selects the 'k' nearest stations to a given target station,\n",
        "  # while ensuring that the selected neighbors are spatially diverse. Instead\n",
        "  # of simply choosing the closest stations, it incorporates an angular diversity\n",
        "  # criterion that selects stations spread out in different directions. This helps\n",
        "  # avoid picking stations that are clustered in one region around the target.\n",
        "  #\n",
        "  # Parameters:\n",
        "  #   - df: DataFrame containing station information (latitude, longitude, station_name)\n",
        "  #   - center_latlon: Coordinates (latitude, longitude) of the target station\n",
        "  #   - k: Number of neighbors to select (default is 3)\n",
        "  #   - candidate_pool: Number of candidates to consider before selection (default is len(csv_files)=78)\n",
        "  #\n",
        "  # Returns:\n",
        "  #   - A DataFrame with 'k' stations selected based on spatial diversity from the target\n",
        "    # Exclude the center point if it exists in the set\n",
        "    if station_name not in df['station'].values:\n",
        "      return f\"Station {station_name} not found in the dataset.\"\n",
        "\n",
        "    center_latlon = df[df['station'] == station_name][['Latitude', 'Longitude']].values[0]\n",
        "    mask = ~((df['Latitude'] == center_latlon[0]) & (df['Longitude'] == center_latlon[1]))\n",
        "    df_filtered = df[mask].copy()\n",
        "    #df_filtered['distance_vector'] = [(0.0, (0.0, 0.0))] * len(df_filtered)  # Initialize with default values\n",
        "\n",
        "    # Convert to x/y coords\n",
        "    lat0 = center_latlon[0]\n",
        "    df_filtered['x'], df_filtered['y'] = latlon_to_xy(df_filtered['Latitude'], df_filtered['Longitude'], lat0)\n",
        "    center_x, center_y = latlon_to_xy(center_latlon[0], center_latlon[1], lat0)\n",
        "    center_xy = np.array([center_x, center_y])\n",
        "\n",
        "    # Compute distances\n",
        "    df_filtered['distance'] = np.linalg.norm(df_filtered[['x', 'y']].values - center_xy, axis=1)\n",
        "    df_sorted = df_filtered.sort_values('distance').head(candidate_pool)\n",
        "    df_sorted['distance'] = df_sorted.apply(lambda row: makeDistanceTuple(row['distance'], row['x'], row['y']), axis=1)\n",
        "    selected_rows = []\n",
        "    selected_xy = []\n",
        "\n",
        "    for idx, row in df_sorted.iterrows():\n",
        "        cand_xy = np.array([row['distance'][1][0], row['distance'][1][1]])\n",
        "        if len(selected_xy) == 0: #gets closest station\n",
        "            selected_rows.append(row)\n",
        "            selected_xy.append(cand_xy)\n",
        "        else:\n",
        "            angles = [compute_angle(cand_xy - center_xy, s - center_xy) for s in selected_xy]\n",
        "            min_angle = min(angles)\n",
        "            if min_angle > np.radians(45) or len(selected_xy) < k // 2:\n",
        "                selected_rows.append(row)\n",
        "                selected_xy.append(cand_xy)\n",
        "        if len(selected_rows) == k:\n",
        "            break\n",
        "\n",
        "    # selectedStations = pd.DataFrame(selected_rows).drop(columns=['x', 'y']).reset_index(drop=True)\n",
        "    # selectedStations.rename(columns= {'distance_vector': 'distance'}, inplace=True)\n",
        "    return pd.DataFrame(selected_rows).drop(columns=['x', 'y']).reset_index(drop=True), center_latlon"
      ],
      "metadata": {
        "id": "mAkSjoxuTNw3"
      },
      "execution_count": 12,
      "outputs": []
    },
    {
      "cell_type": "code",
      "source": [
        "def find_nearest_station_given_long_lat(df,Longitude, Latitude):\n",
        "    # Find the station with the smallest Euclidean distance to the given coordinates\n",
        "    df['distance'] = df.apply(lambda row: euclidean_distance(Latitude, Longitude, row['Latitude'], row['Longitude']), axis=1)\n",
        "    nearest_station = df.sort_values(by='distance', key=lambda x: x.apply(lambda y: y[0])).head(1)\n",
        "    return nearest_station[['station', 'Latitude', 'Longitude', 'distance', 'StartTime', 'EndTime']]\n",
        "\n",
        "    #To get station name print(str(wanted_station.station.iloc[0]))"
      ],
      "metadata": {
        "id": "jr3qnnNKCSeQ"
      },
      "execution_count": 13,
      "outputs": []
    },
    {
      "cell_type": "code",
      "source": [
        "def find_nearest_station_given_normed_long_lat(df,Longitude_Normed, Latitude_Normed):\n",
        "    # Find the station with the smallest Euclidean distance to the given coordinates\n",
        "    df['distance'] = df.apply(lambda row: euclidean_distance(Longitude_Normed, Latitude_Normed, row['norm_lat'], row['norm_long']), axis=1)\n",
        "    nearest_station = df.sort_values(by='distance', key=lambda x: x.apply(lambda y: y[0])).head(1)\n",
        "    return nearest_station[['station', 'norm_lat', 'norm_long', 'distance', 'StartTime', 'EndTime']]\n",
        "\n",
        "    #To get station name print(str(wanted_station.station.iloc[0]))"
      ],
      "metadata": {
        "id": "R9Wn8SO62BjV"
      },
      "execution_count": 14,
      "outputs": []
    },
    {
      "cell_type": "code",
      "source": [
        "def modify_nearest_stations(nearest_stations):\n",
        "    modified_nearest_stations = []\n",
        "    for station in nearest_stations['station']:\n",
        "        modified_station = station.replace(\" \", \"-\")\n",
        "        modified_nearest_stations.append(modified_station)\n",
        "    return modified_nearest_stations"
      ],
      "metadata": {
        "id": "V5zSdOqPCTvz"
      },
      "execution_count": 15,
      "outputs": []
    },
    {
      "cell_type": "code",
      "source": [
        "def find_stations_csv(stations, csvs):\n",
        "    station_order = []\n",
        "    nearest_stations_csvs = []\n",
        "    for station in stations:\n",
        "        for csv in csvs:\n",
        "            if station.lower() in csv.lower():\n",
        "                nearest_stations_csvs.append(csv)\n",
        "                print(f\"Station {station} found in {csv}\")\n",
        "                station_order.append(station)\n",
        "                break\n",
        "    return nearest_stations_csvs, station_order"
      ],
      "metadata": {
        "id": "6YpmvomhCUug"
      },
      "execution_count": 16,
      "outputs": []
    },
    {
      "cell_type": "code",
      "source": [
        "def adjustWindDirection(wind_direction_degress, theta_relative):\n",
        "#Adjusts auxillary stations wind direction to be relative to the wanted stations position\n",
        "  # Adjust the wind direction by subtracting the relative angle\n",
        "  adjusted_wind_direction = wind_direction_degress - theta_relative\n",
        "  # Normalize to 0-360 degrees\n",
        "  adjusted_wind_direction = (adjusted_wind_direction + 360) % 360\n",
        "  return adjusted_wind_direction"
      ],
      "metadata": {
        "id": "Mk4HiUwFkspu"
      },
      "execution_count": 17,
      "outputs": []
    },
    {
      "cell_type": "code",
      "source": [
        "def cyclicalEncoding(data, cycleLength):\n",
        "  newDatasin = np.sin(2 * np.pi * (data - 1) / cycleLength)  # Sine encoding for hours (adjust for 0-23)\n",
        "  newDatacos = np.cos(2 * np.pi * (data - 1) / cycleLength)  # Cosine encoding for hours (adjust for 0-23)\n",
        "  return newDatasin, newDatacos"
      ],
      "metadata": {
        "id": "0KEOSk1E2sW7"
      },
      "execution_count": 18,
      "outputs": []
    },
    {
      "cell_type": "code",
      "source": [
        "usecols = [\n",
        "    'Year Month Day Hour (YYYYMMDDHH)',\n",
        "    'Global horizontal irradiance / kJ/m2',\n",
        "    'Direct normal irradiance / kJ/m2',\n",
        "    'Diffuse horizontal irradiance / kJ/m2',\n",
        "    'Wind direction / 0-359 degrees',\n",
        "    'Wind speed / 0.1 m/s'\n",
        "]\n",
        "\n",
        "dtype = {\n",
        "    'Year Month Day Hour (YYYYMMDDHH)': str,  # Read as string initially to handle errors\n",
        "    'Global horizontal irradiance / kJ/m2': str,\n",
        "    'Direct normal irradiance / kJ/m2': str,\n",
        "    'Diffuse horizontal irradiance / kJ/m2': str,\n",
        "    'Wind direction / 0-359 degrees': str,\n",
        "    'Wind speed / 0.1 m/s': str\n",
        "}"
      ],
      "metadata": {
        "id": "J9pHad5rCVrr"
      },
      "execution_count": 19,
      "outputs": []
    },
    {
      "cell_type": "code",
      "source": [
        "def get_nearest_stations_data(nearest_stations_csvs, min_start_year, max_end_year, wantedStationCSV=False, RelativeAnglesDegrees=[(0,0)]):\n",
        "    dfs = []\n",
        "    i = 0\n",
        "    meanGHI = 0\n",
        "    stdGHI = 0\n",
        "    for f in nearest_stations_csvs:\n",
        "      # Read the CSV file with specified columns and data types\n",
        "      df = pd.read_csv(f, delimiter=',', skiprows=2, index_col=False, usecols=usecols, dtype=dtype, on_bad_lines='skip')\n",
        "      # Convert columns to numeric, coercing errors to NaN\n",
        "      for col in usecols:\n",
        "          if(col == 'Year Month Day Hour (YYYYMMDDHH)'):\n",
        "              #keep as string\n",
        "              df['Year Month Day Hour (YYYYMMDDHH)'] = df[col].astype(int)\n",
        "              df = df[df['Year Month Day Hour (YYYYMMDDHH)']>min_start_year]\n",
        "              df = df[df['Year Month Day Hour (YYYYMMDDHH)']<=max_end_year]#Data is between min_start_year and max_end_year to accomidate files that dont have the same amount of data\n",
        "\n",
        "              if(wantedStationCSV): #get month and hour for just wanted station\n",
        "                  df['Year Month Day Hour (YYYYMMDDHH)'] = df['Year Month Day Hour (YYYYMMDDHH)'].astype(str)\n",
        "                  # Get month (1-12)\n",
        "                  df['Month'] = df['Year Month Day Hour (YYYYMMDDHH)'].str[4:6].astype(int)\n",
        "                  # Get hour (1-24)\n",
        "                  df['Hour'] = df['Year Month Day Hour (YYYYMMDDHH)'].str[8:10].astype(int)\n",
        "                  # Normalize hour so cyclic (0-23)\n",
        "                  df['Hour_sin'], df['Hour_cos'] = cyclicalEncoding(df['Hour'], 24)# Sine and Cosine encoding for hours (adjust for 0-23)\n",
        "                  # df['Hour_sin'] = np.sin(2 * np.pi * (df['Hour'] - 1) / 24)\n",
        "                  # df['Hour_cos'] = np.cos(2 * np.pi * (df['Hour'] - 1) / 24)  # Cosine encoding for hours (adjust for 0-23)\n",
        "                  # Normalize month so cyclic (0-11))\n",
        "                  df['Month_sin'], df['Month_cos'] = cyclicalEncoding(df['Month'], 12)# Sine and Cosine encoding for months\n",
        "                  # df['Month_sin'] = np.sin(2 * np.pi *  (df['Month']-1)/ 12)  # Sine encoding for months\n",
        "                  # df['Month_cos'] = np.cos(2 * np.pi *  (df['Month']-1) / 12)  # Cosine encoding for months\n",
        "                  df = df.drop(columns=['Month'], axis=1)\n",
        "                  df = df.drop(columns=['Hour'], axis=1)\n",
        "\n",
        "              df = df.drop(columns=[col], axis=1)\n",
        "              continue\n",
        "\n",
        "          if(col=='Wind direction / 0-359 degrees'):\n",
        "              df[col] = pd.to_numeric(df[col], errors='coerce').replace(99, np.nan)\n",
        "              if(not wantedStationCSV):\n",
        "                df[col] = df[col].apply(lambda x: adjustWindDirection(x, RelativeAnglesDegrees[i]))\n",
        "                #When wind is pointed towards the wanted station it has a new angle of 0 degrees and when pointed directly away from it it has a 180 degrees value now\n",
        "              radians = np.deg2rad(df[col])\n",
        "              df['wind_dir_sin'] = np.sin(radians)\n",
        "              df['wind_dir_cos'] = np.cos(radians)\n",
        "              df = df.drop(columns=[col], axis=1)\n",
        "              continue\n",
        "\n",
        "          if(col == 'Wind speed / 0.1 m/s'):\n",
        "              df[col] = pd.to_numeric(df[col], errors='coerce').replace(99, np.nan)\n",
        "              mean = df[col].mean()\n",
        "              std = df[col].std()\n",
        "              df[col] = (df[col] - mean) / std\n",
        "              continue\n",
        "\n",
        "          if (col == 'Global horizontal irradiance / kJ/m2' or col == 'Direct normal irradiance / kJ/m2' or col == 'Diffuse horizontal irradiance / kJ/m2'):\n",
        "              df[col] = pd.to_numeric(df[col], errors='coerce').replace(9999, np.nan)\n",
        "              mean = df[col].mean()\n",
        "              std = df[col].std()\n",
        "              df[col] = (df[col] - mean) / std #can denormalize output\n",
        "              if (col == 'Global horizontal irradiance / kJ/m2'):\n",
        "                meanGHI = mean\n",
        "                stdGHI = std #for denormalizing\n",
        "              continue\n",
        "          df[col] = pd.to_numeric(df[col], errors='coerce')\n",
        "      df.fillna(0, inplace=True)\n",
        "      dfs.append(df)\n",
        "      i+=1\n",
        "      #print(df.columns)\n",
        "    return dfs, meanGHI, stdGHI"
      ],
      "metadata": {
        "id": "pOVsnVMkCXXt"
      },
      "execution_count": 20,
      "outputs": []
    },
    {
      "cell_type": "code",
      "source": [
        "def chunk(df, interval = 25):\n",
        "    results = []\n",
        "    for i in range(0, len(df)-interval, 1):\n",
        "        chunk = df[i:i+interval]\n",
        "        results.append(chunk)\n",
        "    results = np.array(results)\n",
        "    return results"
      ],
      "metadata": {
        "id": "h787pCFXiuLu"
      },
      "execution_count": 21,
      "outputs": []
    },
    {
      "cell_type": "code",
      "source": [
        "def get_chunked_tensors(nearest_stations, dfs, interval):\n",
        "  chunked_tensors = []\n",
        "  rows = 0\n",
        "  station_order = []\n",
        "  for index, station in nearest_stations.iterrows():\n",
        "    distanceVector = station.iloc[3][1]\n",
        "    chunked_df = chunk(dfs[rows], interval=interval)\n",
        "    rows+=1\n",
        "    chunkedTensor = torch.tensor(chunked_df).to(torch.float32)\n",
        "    chunked_tensors.append(chunkedTensor)\n",
        "    station_order.append(station)\n",
        "  return chunked_tensors, station_order"
      ],
      "metadata": {
        "id": "IadCp-i5isTY"
      },
      "execution_count": 22,
      "outputs": []
    },
    {
      "cell_type": "code",
      "source": [
        "def getMaxStartMinEndYearComplete(max_start_year, min_end_year):\n",
        "  maxStartYear, minEndYear = str(max_start_year), str(min_end_year)\n",
        "  #print(max_start_year, min_end_year)\n",
        "  maxStartYear = maxStartYear+\"010100\"\n",
        "  minEndYear = minEndYear+\"123124\"\n",
        "  maxStartYear = int(maxStartYear)\n",
        "  minEndYear = int(minEndYear)\n",
        "  return maxStartYear, minEndYear"
      ],
      "metadata": {
        "id": "NNbKRsVYh9BH"
      },
      "execution_count": 23,
      "outputs": []
    },
    {
      "cell_type": "code",
      "source": [
        "def getAllKAuxillaryStationsReadyByWantedStationName(stationsName_lat_long_datadf, nearest_stations, k, min_start_year, max_end_year, RelativeAnglesDegrees):\n",
        "  #doing all thats needed to get Auxillary stations data ready and in chunked tensors and in order chunked\n",
        "  modified_nearest_stations = modify_nearest_stations(nearest_stations)\n",
        "  nearest_stations_csvs, station_order = find_stations_csv(modified_nearest_stations, csv_files)\n",
        "  nearest_stations_data_dfs, _, _ = get_nearest_stations_data(nearest_stations_csvs, min_start_year, max_end_year, False, RelativeAnglesDegrees)\n",
        "\n",
        "  for i in range(k):\n",
        "    nearest_stations_data_dfs[i][\"distanceX\"] = [nearest_stations['distance'].values[i][1][0]]*len(nearest_stations_data_dfs[i])\n",
        "    nearest_stations_data_dfs[i][\"distanceY\"] = [nearest_stations['distance'].values[i][1][1]]*len(nearest_stations_data_dfs[i])\n",
        "    #print(nearest_stations_data_dfs[i].head())\n",
        "    #print(nearest_stations_data_dfs[i].columns)\n",
        "  aux_chunked_tensors, aux_chunked_station_order = get_chunked_tensors(nearest_stations, nearest_stations_data_dfs, 25)\n",
        "  return aux_chunked_tensors, aux_chunked_station_order"
      ],
      "metadata": {
        "id": "pNwIal1nf2Oi"
      },
      "execution_count": 24,
      "outputs": []
    },
    {
      "cell_type": "code",
      "source": [
        "def getAllReadyForStationByLatAndLongAndK(stationsName_lat_long_datadf, lat, long, k):\n",
        "  #doing everything needed to get wanted stations data ready and in chunked tensors as well as get wanted station and its name\n",
        "  wanted_station = find_nearest_station_given_long_lat(stationsName_lat_long_datadf, lat, long)\n",
        "  max_start_year = wanted_station[\"StartTime\"].values[0]\n",
        "  min_end_year = wanted_station[\"EndTime\"].values[0]\n",
        "\n",
        "  wanted_station.at[wanted_station.index[0], \"distance\"] = (0.0, (0.0, 0.0))\n",
        "  wanted_station_modified = modify_nearest_stations({\"station\": wanted_station[\"station\"]})\n",
        "  wanted_station_csv, _ = find_stations_csv(wanted_station_modified, csv_files)\n",
        "\n",
        "  nearest_stations, target_point = spatially_diverse_knn(stationsName_lat_long_datadf, wanted_station[\"station\"].values[0], k)\n",
        "  plot_stations_matplotlib(target_point, nearest_stations, stationsName_lat_long_datadf)\n",
        "  max_start_year, min_end_year = max(max_start_year, *nearest_stations[\"StartTime\"].values), min(min_end_year, *nearest_stations[\"EndTime\"].values)\n",
        "  max_start_year, min_end_year = getMaxStartMinEndYearComplete(max_start_year, min_end_year)\n",
        "\n",
        "  RelativeAnglesDegrees = []\n",
        "  for distanceVector in nearest_stations[\"distance\"].values:\n",
        "    Relative_Angle_Radians = np.arctan2(distanceVector[1][1], distanceVector[1][0])#Relative Distance Vector y and Distance Vector x\n",
        "    Relative_Angle_Degrees = np.degrees(Relative_Angle_Radians)\n",
        "    if Relative_Angle_Degrees < 0:\n",
        "      Relative_Angle_Degrees += 360\n",
        "    RelativeAnglesDegrees.append(Relative_Angle_Degrees)\n",
        "\n",
        "  aux_chunked_tensors, aux_chunked_station_order = getAllKAuxillaryStationsReadyByWantedStationName(stationsName_lat_long_datadf, nearest_stations, k, max_start_year, min_end_year, RelativeAnglesDegrees)\n",
        "\n",
        "  wanted_station_data_dfs, meanGHI, stdGHI = get_nearest_stations_data(wanted_station_csv, max_start_year, min_end_year,wantedStationCSV=True)\n",
        "  #print(wanted_station_data_dfs[0].head())\n",
        "  wanted_chunked_tensors, _ = get_chunked_tensors(wanted_station, wanted_station_data_dfs, 25)\n",
        "\n",
        "  return wanted_chunked_tensors, wanted_station[\"station\"].values[0], aux_chunked_tensors, aux_chunked_station_order, meanGHI, stdGHI"
      ],
      "metadata": {
        "id": "LhdKJKyVohZe"
      },
      "execution_count": 25,
      "outputs": []
    },
    {
      "cell_type": "code",
      "source": [
        "def getAllReadyForStationByLatAndLongAndKSplitTestAndTrain(stationsName_lat_long_datadf, lat, long, k):\n",
        "  #doing everything needed to get wanted stations data ready and in chunked tensors as well as get wanted station and its name\n",
        "  wanted_station = find_nearest_station_given_long_lat(stationsName_lat_long_datadf, lat, long)\n",
        "  max_start_year = wanted_station[\"StartTime\"].values[0]\n",
        "  min_end_year = wanted_station[\"EndTime\"].values[0]\n",
        "\n",
        "  wanted_station.at[wanted_station.index[0], \"distance\"] = (0.0, (0.0, 0.0))\n",
        "  wanted_station_modified = modify_nearest_stations({\"station\": wanted_station[\"station\"]})\n",
        "  wanted_station_csv, _ = find_stations_csv(wanted_station_modified, csv_files)\n",
        "\n",
        "  nearest_stations, target_point = spatially_diverse_knn(stationsName_lat_long_datadf, wanted_station[\"station\"].values[0], k)\n",
        "  plot_stations_matplotlib(target_point, nearest_stations, stationsName_lat_long_datadf)\n",
        "  max_start_year, min_end_year = max(max_start_year, *nearest_stations[\"StartTime\"].values), min(min_end_year, *nearest_stations[\"EndTime\"].values)#Get earliest year that all start at (max_start_year) and latest year all go until (min_end_year)\n",
        "  train_max_start_year, train_min_end_year = getMaxStartMinEndYearComplete(max_start_year, min_end_year-2)\n",
        "  test_max_start_year, test_min_end_year = getMaxStartMinEndYearComplete(min_end_year-1, min_end_year)\n",
        "\n",
        "  print(max_start_year,min_end_year)\n",
        "  print(train_max_start_year, train_min_end_year)\n",
        "  print(test_max_start_year, test_min_end_year)\n",
        "\n",
        "  RelativeAnglesDegrees = []\n",
        "  for distanceVector in nearest_stations[\"distance\"].values:\n",
        "    Relative_Angle_Radians = np.arctan2(distanceVector[1][1], distanceVector[1][0])#Relative Distance Vector y and Distance Vector x\n",
        "    Relative_Angle_Degrees = np.degrees(Relative_Angle_Radians)\n",
        "    if Relative_Angle_Degrees < 0:\n",
        "      Relative_Angle_Degrees += 360\n",
        "    RelativeAnglesDegrees.append(Relative_Angle_Degrees)\n",
        "\n",
        "  trainSet_aux_chunked_tensors, trainSet_aux_chunked_station_order = getAllKAuxillaryStationsReadyByWantedStationName(stationsName_lat_long_datadf, nearest_stations, k, train_max_start_year, train_min_end_year, RelativeAnglesDegrees)\n",
        "  testSet_aux_chunked_tensors, testSet_aux_chunked_station_order = getAllKAuxillaryStationsReadyByWantedStationName(stationsName_lat_long_datadf, nearest_stations, k, test_max_start_year, test_min_end_year, RelativeAnglesDegrees)\n",
        "\n",
        "  trainSet_wanted_station_data_dfs = get_nearest_stations_data(wanted_station_csv, train_max_start_year, train_min_end_year,wantedStationCSV=True)\n",
        "  testSet_wanted_station_data_dfs = get_nearest_stations_data(wanted_station_csv, test_max_start_year, test_min_end_year,wantedStationCSV=True)\n",
        "  #print(wanted_station_data_dfs[0].head())\n",
        "\n",
        "  trainSet_wanted_chunked_tensors, _ = get_chunked_tensors(wanted_station, trainSet_wanted_station_data_dfs, 25)\n",
        "  testSet_wanted_chunked_tensors, _ = get_chunked_tensors(wanted_station, testSet_wanted_station_data_dfs, 25)\n",
        "\n",
        "  return trainSet_wanted_chunked_tensors, testSet_wanted_chunked_tensors, wanted_station[\"station\"].values[0], trainSet_aux_chunked_tensors, testSet_aux_chunked_tensors, trainSet_aux_chunked_station_order, testSet_aux_chunked_station_order"
      ],
      "metadata": {
        "id": "YKOwQRDb12Rn"
      },
      "execution_count": 26,
      "outputs": []
    },
    {
      "cell_type": "code",
      "source": [
        "def denormalizeHourOrMonth(anglesin, anglecos, cycleLength):\n",
        "  angle = np.arctan2(anglesin, anglecos)\n",
        "  cycleBeforeModulo = (angle / (2 * np.pi)) * cycleLength + 1\n",
        "  return (cycleBeforeModulo % cycleLength)"
      ],
      "metadata": {
        "id": "JEJiyn52oOAX"
      },
      "execution_count": 27,
      "outputs": []
    },
    {
      "cell_type": "code",
      "source": [
        "def combineDataForMultipleStations():\n",
        "  #will look into getting auxillary stations by not k nearest but instead giving a list of latitudes and longitudes to fins nearest stations to those to use as auxillary stations\n",
        "  return"
      ],
      "metadata": {
        "id": "rFoQdqrDodYB"
      },
      "execution_count": 28,
      "outputs": []
    },
    {
      "cell_type": "markdown",
      "source": [
        "end of Preprocessing\n",
        "## Dataset Creation and Model Architecture"
      ],
      "metadata": {
        "id": "Sg1R8fc97Mp5"
      }
    },
    {
      "cell_type": "code",
      "source": [
        "class GHIDataset(Dataset):\n",
        "    def __init__(self, chunked_data, device='cuda'):\n",
        "        super(GHIDataset, self).__init__()\n",
        "        self.chunked_data = chunked_data.to(device) #chunked data needs to be passed in as a tensor\n",
        "        self.device = device\n",
        "\n",
        "    def __len__(self):\n",
        "        return len(self.chunked_data)\n",
        "\n",
        "    def __getitem__(self, i):\n",
        "        element = self.chunked_data[i] #need to break down to zeroth element of list and first element of that is GHI of that which is the target\n",
        "        # inputs = []\n",
        "        # for el in element:\n",
        "        #   inputs.append(el[0:-1])\n",
        "        #print(element.shape)\n",
        "        return element[0:-1], element[-1,0] #ensure first station in dataset is the one we are wanting to predict"
      ],
      "metadata": {
        "id": "qKsAaFpHDF7H"
      },
      "execution_count": 29,
      "outputs": []
    },
    {
      "cell_type": "code",
      "source": [
        "class Main_LSTM(nn.Module):\n",
        "    def __init__(self, dropout=0.0):\n",
        "        \"\"\"\n",
        "        input_dim: Number of features per time step (here, 5)\n",
        "        hidden_dim: Number of hidden units in the LSTM\n",
        "        num_layers: Number of stacked LSTM layers\n",
        "        dropout: Dropout probability (applied between LSTM layers if num_layers > 1)\n",
        "        \"\"\"\n",
        "        super(Main_LSTM, self).__init__()\n",
        "        self.Stationlstm = nn.LSTM(34, 128, 3,\n",
        "                            batch_first=True, dropout=dropout)\n",
        "        self.Auxlstm = nn.LSTM(8, 8, 2,\n",
        "                            batch_first=True, dropout=dropout)#may need to change 16 back to 8\n",
        "        # A fully-connected layer to map the LSTM output to a single GHI prediction\n",
        "        self.station_fc = nn.Linear(128, 1)\n",
        "\n",
        "    def forward(self, x):\n",
        "        # x shape: (batch_size, sequence_length, input_dim)\n",
        "        # LSTM returns output for every time step, and the final hidden and cell states.\n",
        "\n",
        "        #torch.Size([32, 24, 64])\n",
        "        main_station_data = x[:, :, :10]  # First 10 features are for main station\n",
        "        aux_station_data = x[:, :, 10:]  # Remaining features are for auxiliary stations\n",
        "        aux_lstm_outs = []\n",
        "        #other idea: range start at 10 go to 34 add 8 each time as 3 auxillaries\n",
        "        for i in range(0, 24, 8): #range start at 0 go to 24 add 8 each time as 3 auxillary stations\n",
        "          lstm_out, _ = self.Auxlstm(aux_station_data[:, :, i:i+8])\n",
        "          aux_lstm_outs.append(lstm_out)\n",
        "        concat = torch.cat(([main_station_data]+aux_lstm_outs), 2)\n",
        "        #print(concat.shape)\n",
        "        lstm_out, (h_n, c_n) = self.Stationlstm(concat)\n",
        "        # Use the output from the last time step as a summary of the sequence\n",
        "        # lstm_out[:, -1, :] has shape (batch_size, hidden_dim)\n",
        "        #print(\"Main: \", lstm_out.shape)\n",
        "        final_feature = lstm_out[:, -1, :] #Not sure if this WORKSSSS (Right size?)\n",
        "        #torch.Size([32, 64])\n",
        "\n",
        "        # Pass through the fully-connected layer to produce a single output\n",
        "        ghi_pred = self.station_fc(final_feature)  # shape: (batch_size, 1)\n",
        "        return ghi_pred"
      ],
      "metadata": {
        "id": "UDQaJVVrDHSq"
      },
      "execution_count": 30,
      "outputs": []
    },
    {
      "cell_type": "code",
      "source": [
        "# Check if GPU is available and set device\n",
        "device = torch.device(\"cuda\" if torch.cuda.is_available() else \"cpu\")\n",
        "print(\"Using device:\", device)"
      ],
      "metadata": {
        "id": "SptD0QknjhJS",
        "outputId": "556e7cfd-cd6a-4cfe-88f3-510b4c0bfe05",
        "colab": {
          "base_uri": "https://localhost:8080/"
        }
      },
      "execution_count": 46,
      "outputs": [
        {
          "output_type": "stream",
          "name": "stdout",
          "text": [
            "Using device: cpu\n"
          ]
        }
      ]
    },
    {
      "cell_type": "markdown",
      "source": [
        "End of Model architecture\n",
        "\n",
        "##Start of getting data loaded and chunked"
      ],
      "metadata": {
        "id": "odNaJ7Su736o"
      }
    },
    {
      "cell_type": "code",
      "source": [
        "#Maybe make this a dictionary instead so dont have so many variables\n",
        "trainSet_wanted_chunked_tensors, testSet_wanted_chunked_tensors, wanted_station_name, trainSet_aux_chunked_tensors, testSet_aux_chunked_tensors, trainSet_aux_chunked_station_order, testSet_aux_chunked_station_order = getAllReadyForStationByLatAndLongAndKSplitTestAndTrain(stationsName_lat_long_datadf.copy(), -263.5, 54.5, 3)"
      ],
      "metadata": {
        "id": "BQ63hKzdkcXx",
        "colab": {
          "base_uri": "https://localhost:8080/"
        },
        "outputId": "60b6de7a-21b9-4839-d481-31207aef709c"
      },
      "execution_count": null,
      "outputs": [
        {
          "output_type": "stream",
          "name": "stdout",
          "text": [
            "Station CUMSHEWA-ISLAND found in /content/drive/MyDrive/Colab Notebooks/CWEEDS_2020_BC/CAN_BC_CUMSHEWA-ISLAND_1062251_CWEEDS2011_1998-2017.csv\n",
            "1998 2017\n",
            "1998010100 2015123124\n",
            "2016010100 2017123124\n",
            "Station SANDSPIT found in /content/drive/MyDrive/Colab Notebooks/CWEEDS_2020_BC/CAN_BC_SANDSPIT_1057052_CWEEDS2011_1998-2017.csv\n",
            "Station KINDAKUN-ROCKS-(AUT) found in /content/drive/MyDrive/Colab Notebooks/CWEEDS_2020_BC/CAN_BC_KINDAKUN-ROCKS-(AUT)_1054222_CWEEDS2011_1998-2017.csv\n",
            "Station BONILLA-ISLAND-(AUT) found in /content/drive/MyDrive/Colab Notebooks/CWEEDS_2020_BC/CAN_BC_BONILLA-ISLAND-(AUT)_1060R0K_CWEEDS2011_1998-2017.csv\n",
            "Station SANDSPIT found in /content/drive/MyDrive/Colab Notebooks/CWEEDS_2020_BC/CAN_BC_SANDSPIT_1057052_CWEEDS2011_1998-2017.csv\n",
            "Station KINDAKUN-ROCKS-(AUT) found in /content/drive/MyDrive/Colab Notebooks/CWEEDS_2020_BC/CAN_BC_KINDAKUN-ROCKS-(AUT)_1054222_CWEEDS2011_1998-2017.csv\n",
            "Station BONILLA-ISLAND-(AUT) found in /content/drive/MyDrive/Colab Notebooks/CWEEDS_2020_BC/CAN_BC_BONILLA-ISLAND-(AUT)_1060R0K_CWEEDS2011_1998-2017.csv\n"
          ]
        }
      ]
    },
    {
      "cell_type": "code",
      "source": [
        "combined_train_chunked_data_tensor = torch.cat(trainSet_wanted_chunked_tensors + trainSet_aux_chunked_tensors, dim=2)\n",
        "combined_test_chunked_data_tensor = torch.cat(testSet_wanted_chunked_tensors + testSet_aux_chunked_tensors, dim=2)\n",
        "print(combined_train_chunked_data_tensor.shape)\n",
        "print(combined_test_chunked_data_tensor.shape)"
      ],
      "metadata": {
        "id": "MFRokiIbzryc"
      },
      "execution_count": null,
      "outputs": []
    },
    {
      "cell_type": "code",
      "source": [
        "dataset = GHIDataset(combined_train_chunked_data_tensor, device=device)#For training\n",
        "train_loader = DataLoader(dataset, batch_size=32, shuffle=True)"
      ],
      "metadata": {
        "id": "UPmJk_2k0E0a"
      },
      "execution_count": null,
      "outputs": []
    },
    {
      "cell_type": "code",
      "source": [
        "dataset_test = GHIDataset(combined_test_chunked_data_tensor, device=device)\n",
        "train_loader_test = DataLoader(dataset_test, batch_size=32, shuffle=True)"
      ],
      "metadata": {
        "id": "GjU2fZAF0IqN"
      },
      "execution_count": null,
      "outputs": []
    },
    {
      "cell_type": "markdown",
      "source": [
        "Splitting data preproccessing\n",
        "##Non Splitting data preproccessing"
      ],
      "metadata": {
        "id": "k0HpaNEwd2yd"
      }
    },
    {
      "cell_type": "code",
      "source": [
        "wanted_chunked_tensors, wanted_station_name, aux_chunked_tensors, aux_chunked_station_order, meanGHI1, stdGHI1 = getAllReadyForStationByLatAndLongAndK(stationsName_lat_long_datadf.copy(), -131.75, 54.5, 3)"
      ],
      "metadata": {
        "colab": {
          "base_uri": "https://localhost:8080/",
          "height": 636
        },
        "id": "oxsryJpfqqca",
        "outputId": "ae080871-06e6-4843-d1d1-e8c919502495"
      },
      "execution_count": 31,
      "outputs": [
        {
          "output_type": "stream",
          "name": "stdout",
          "text": [
            "Station ROSE-SPIT-(AUT) found in /content/drive/MyDrive/Colab Notebooks/CWEEDS_2020_BC/CAN_BC_ROSE-SPIT-(AUT)_1056869_CWEEDS2011_1998-2017.csv\n"
          ]
        },
        {
          "output_type": "display_data",
          "data": {
            "text/plain": [
              "<Figure size 800x600 with 1 Axes>"
            ],
            "image/png": "[encoded data removed]"
          },
          "metadata": {}
        },
        {
          "output_type": "stream",
          "name": "stdout",
          "text": [
            "Station LUCY-ISLAND-LIGHTSTATION found in /content/drive/MyDrive/Colab Notebooks/CWEEDS_2020_BC/CAN_BC_LUCY-ISLAND-LIGHTSTATION_1064728_CWEEDS2011_1999-2017.csv\n",
            "Station LANGARA-ISLAND-RCS found in /content/drive/MyDrive/Colab Notebooks/CWEEDS_2020_BC/CAN_BC_LANGARA-ISLAND-RCS_1054503_CWEEDS2011_1998-2016.csv\n",
            "Station BONILLA-ISLAND-(AUT) found in /content/drive/MyDrive/Colab Notebooks/CWEEDS_2020_BC/CAN_BC_BONILLA-ISLAND-(AUT)_1060R0K_CWEEDS2011_1998-2017.csv\n"
          ]
        }
      ]
    },
    {
      "cell_type": "code",
      "source": [
        "wanted_chunked_tensors[0].shape"
      ],
      "metadata": {
        "colab": {
          "base_uri": "https://localhost:8080/"
        },
        "id": "Dga3BehqbgxA",
        "outputId": "be98eb7a-7660-420f-95bd-3a10e043b36c"
      },
      "execution_count": 32,
      "outputs": [
        {
          "output_type": "execute_result",
          "data": {
            "text/plain": [
              "torch.Size([157775, 25, 10])"
            ]
          },
          "metadata": {},
          "execution_count": 32
        }
      ]
    },
    {
      "cell_type": "code",
      "source": [
        "combined_chunked_data_tensor1 = torch.cat(wanted_chunked_tensors + aux_chunked_tensors, dim=2)"
      ],
      "metadata": {
        "id": "wun3Vay5rFGy"
      },
      "execution_count": 33,
      "outputs": []
    },
    {
      "cell_type": "code",
      "source": [
        "wanted_chunked_tensors, wanted_station_name, aux_chunked_tensors, aux_chunked_station_order, meanGHI2, stdGHI2 = getAllReadyForStationByLatAndLongAndK(stationsName_lat_long_datadf.copy(), -123, 50,3)"
      ],
      "metadata": {
        "colab": {
          "base_uri": "https://localhost:8080/",
          "height": 636
        },
        "id": "s_Z6dRfTalwY",
        "outputId": "154c6593-f758-4c1a-840f-787564947e73"
      },
      "execution_count": 34,
      "outputs": [
        {
          "output_type": "stream",
          "name": "stdout",
          "text": [
            "Station WHISTLER---NESTERS found in /content/drive/MyDrive/Colab Notebooks/CWEEDS_2020_BC/CAN_BC_WHISTLER---NESTERS_1100875_CWEEDS2011_2005-2017.csv\n"
          ]
        },
        {
          "output_type": "display_data",
          "data": {
            "text/plain": [
              "<Figure size 800x600 with 1 Axes>"
            ],
            "image/png": "[encoded data removed]"
          },
          "metadata": {}
        },
        {
          "output_type": "stream",
          "name": "stdout",
          "text": [
            "Station CALLAGHAN-VALLEY found in /content/drive/MyDrive/Colab Notebooks/CWEEDS_2020_BC/CAN_BC_CALLAGHAN-VALLEY_1101300_CWEEDS2011_2005-2017.csv\n",
            "Station PEMBERTON-AIRPORT-CS found in /content/drive/MyDrive/Colab Notebooks/CWEEDS_2020_BC/CAN_BC_PEMBERTON-AIRPORT-CS_1086082_CWEEDS2011_1998-2017.csv\n",
            "Station SQUAMISH-AIRPORT found in /content/drive/MyDrive/Colab Notebooks/CWEEDS_2020_BC/CAN_BC_SQUAMISH-AIRPORT_10476F0_CWEEDS2011_1998-2017.csv\n"
          ]
        }
      ]
    },
    {
      "cell_type": "code",
      "source": [
        "combined_chunked_data_tensor2 = torch.cat(wanted_chunked_tensors + aux_chunked_tensors, dim=2)"
      ],
      "metadata": {
        "id": "Yqk49o6jbXi2"
      },
      "execution_count": 35,
      "outputs": []
    },
    {
      "cell_type": "code",
      "source": [
        "wanted_chunked_tensors, wanted_station_name, aux_chunked_tensors, aux_chunked_station_order, meanGHI3, stdGHI3 = getAllReadyForStationByLatAndLongAndK(stationsName_lat_long_datadf.copy(), -123.5, 48,3)\n",
        "combined_chunked_data_tensor3 = torch.cat(wanted_chunked_tensors + aux_chunked_tensors, dim=2)"
      ],
      "metadata": {
        "colab": {
          "base_uri": "https://localhost:8080/",
          "height": 636
        },
        "id": "fcByWgHZOmTt",
        "outputId": "8292089f-1f9d-49e7-cf9d-769c12d4258d"
      },
      "execution_count": 36,
      "outputs": [
        {
          "output_type": "stream",
          "name": "stdout",
          "text": [
            "Station ESQUIMALT-HARBOUR found in /content/drive/MyDrive/Colab Notebooks/CWEEDS_2020_BC/CAN_BC_ESQUIMALT-HARBOUR_1012710_CWEEDS2011_1998-2017.csv\n"
          ]
        },
        {
          "output_type": "display_data",
          "data": {
            "text/plain": [
              "<Figure size 800x600 with 1 Axes>"
            ],
            "image/png": "[encoded data removed]"
          },
          "metadata": {}
        },
        {
          "output_type": "stream",
          "name": "stdout",
          "text": [
            "Station VICTORIA-GONZALES-CS found in /content/drive/MyDrive/Colab Notebooks/CWEEDS_2020_BC/CAN_BC_VICTORIA-GONZALES-CS_1018611_CWEEDS2011_1998-2017.csv\n",
            "Station VICTORIA-HARTLAND-CS found in /content/drive/MyDrive/Colab Notebooks/CWEEDS_2020_BC/CAN_BC_VICTORIA-HARTLAND-CS_1018FJ5_CWEEDS2011_1998-2011.csv\n",
            "Station SHERINGHAM-POINT found in /content/drive/MyDrive/Colab Notebooks/CWEEDS_2020_BC/CAN_BC_SHERINGHAM-POINT_1017254_CWEEDS2011_1998-2017.csv\n"
          ]
        }
      ]
    },
    {
      "cell_type": "code",
      "source": [
        "wanted_chunked_tensors, wanted_station_name, aux_chunked_tensors, aux_chunked_station_order, meanGHI4, stdGHI4 = getAllReadyForStationByLatAndLongAndK(stationsName_lat_long_datadf.copy(), -122.5, 60,3)\n",
        "combined_chunked_data_tensor4 = torch.cat(wanted_chunked_tensors + aux_chunked_tensors, dim=2)"
      ],
      "metadata": {
        "colab": {
          "base_uri": "https://localhost:8080/",
          "height": 636
        },
        "id": "PJCma6yiOmrg",
        "outputId": "ed24ece0-76ed-4323-e101-822440123501"
      },
      "execution_count": 37,
      "outputs": [
        {
          "output_type": "stream",
          "name": "stdout",
          "text": [
            "Station FORT-NELSON-A found in /content/drive/MyDrive/Colab Notebooks/CWEEDS_2020_BC/CAN_BC_FORT-NELSON-A_1192946_CWEEDS2011_2005-2017.csv\n"
          ]
        },
        {
          "output_type": "display_data",
          "data": {
            "text/plain": [
              "<Figure size 800x600 with 1 Axes>"
            ],
            "image/png": "[encoded data removed]"
          },
          "metadata": {}
        },
        {
          "output_type": "stream",
          "name": "stdout",
          "text": [
            "Station FORT-ST-JOHN-A found in /content/drive/MyDrive/Colab Notebooks/CWEEDS_2020_BC/CAN_BC_FORT-ST-JOHN-A_1183001_CWEEDS2011_1998-2017.csv\n",
            "Station DEASE-LAKE-(AUT) found in /content/drive/MyDrive/Colab Notebooks/CWEEDS_2020_BC/CAN_BC_DEASE-LAKE-(AUT)_119BLM0_CWEEDS2011_2005-2017.csv\n",
            "Station SMITHERS found in /content/drive/MyDrive/Colab Notebooks/CWEEDS_2020_BC/CAN_BC_SMITHERS_1077499_CWEEDS2011_1998-2017.csv\n"
          ]
        }
      ]
    },
    {
      "cell_type": "code",
      "source": [
        "wanted_chunked_tensors, wanted_station_name, aux_chunked_tensors, aux_chunked_station_order, meanGHI5, stdGHI5 = getAllReadyForStationByLatAndLongAndK(stationsName_lat_long_datadf.copy(), -127.75, 51,3)\n",
        "combined_chunked_data_tensor5 = torch.cat(wanted_chunked_tensors + aux_chunked_tensors, dim=2)"
      ],
      "metadata": {
        "colab": {
          "base_uri": "https://localhost:8080/",
          "height": 636
        },
        "id": "mf1NPDIxOpM_",
        "outputId": "80b7abc2-7f37-4f1e-855b-91a5dc61bd7e"
      },
      "execution_count": 38,
      "outputs": [
        {
          "output_type": "stream",
          "name": "stdout",
          "text": [
            "Station HERBERT-ISLAND-(AUT) found in /content/drive/MyDrive/Colab Notebooks/CWEEDS_2020_BC/CAN_BC_HERBERT-ISLAND-(AUT)_1063461_CWEEDS2011_1998-2017.csv\n"
          ]
        },
        {
          "output_type": "display_data",
          "data": {
            "text/plain": [
              "<Figure size 800x600 with 1 Axes>"
            ],
            "image/png": "[encoded data removed]"
          },
          "metadata": {}
        },
        {
          "output_type": "stream",
          "name": "stdout",
          "text": [
            "Station PORT-HARDY-A found in /content/drive/MyDrive/Colab Notebooks/CWEEDS_2020_BC/CAN_BC_PORT-HARDY-A_1026271_CWEEDS2011_1998-2017.csv\n",
            "Station SARTINE-ISLAND-(AUT) found in /content/drive/MyDrive/Colab Notebooks/CWEEDS_2020_BC/CAN_BC_SARTINE-ISLAND-(AUT)_1037090_CWEEDS2011_1998-2017.csv\n",
            "Station SOLANDER-ISLAND-(AUT) found in /content/drive/MyDrive/Colab Notebooks/CWEEDS_2020_BC/CAN_BC_SOLANDER-ISLAND-(AUT)_1037553_CWEEDS2011_1999-2017.csv\n"
          ]
        }
      ]
    },
    {
      "cell_type": "code",
      "source": [
        "combined_chunked_data_tensor = torch.cat([combined_chunked_data_tensor1, combined_chunked_data_tensor2, combined_chunked_data_tensor3, combined_chunked_data_tensor4, combined_chunked_data_tensor5], dim=0)"
      ],
      "metadata": {
        "id": "DB8JmVs9bWOA"
      },
      "execution_count": 39,
      "outputs": []
    },
    {
      "cell_type": "code",
      "source": [
        "combined_chunked_data_tensor.shape"
      ],
      "metadata": {
        "id": "VlZrpWeqrGGG",
        "colab": {
          "base_uri": "https://localhost:8080/"
        },
        "outputId": "979f590e-d83a-47c0-cc1f-7bd42aa383fa"
      },
      "execution_count": 44,
      "outputs": [
        {
          "output_type": "execute_result",
          "data": {
            "text/plain": [
              "torch.Size([674851, 25, 34])"
            ]
          },
          "metadata": {},
          "execution_count": 44
        }
      ]
    },
    {
      "cell_type": "code",
      "source": [
        "#Deleting all tensors and data no longer needed to save space on RAM\n",
        "del wanted_chunked_tensors, wanted_station_name, aux_chunked_tensors, aux_chunked_station_order\n",
        "del combined_chunked_data_tensor1, combined_chunked_data_tensor2, combined_chunked_data_tensor3, combined_chunked_data_tensor4, combined_chunked_data_tensor5"
      ],
      "metadata": {
        "id": "_aZQysnkhqoY"
      },
      "execution_count": 43,
      "outputs": []
    },
    {
      "cell_type": "markdown",
      "source": [
        "Data loaded\n",
        "##Create Model"
      ],
      "metadata": {
        "id": "XmUmSGNS8LT6"
      }
    },
    {
      "cell_type": "code",
      "source": [
        "#combined_chunked_data_tensor = torch.cat(wanted_chunked_tensors + aux_chunked_tensors, dim=2)"
      ],
      "metadata": {
        "id": "1e8LLbSHlEO_"
      },
      "execution_count": 41,
      "outputs": []
    },
    {
      "cell_type": "code",
      "source": [
        "#dataset = GHIDataset(combined_chunked_data_tensor, device=device)\n",
        "dataset = GHIDataset(combined_chunked_data_tensor, device=device)\n",
        "train_loader = DataLoader(dataset, batch_size=32, shuffle=True)"
      ],
      "metadata": {
        "id": "zeFQ6uiBDc6T"
      },
      "execution_count": 47,
      "outputs": []
    },
    {
      "cell_type": "code",
      "source": [
        "mainModel = Main_LSTM().to(device)\n",
        "mainModel = torch.compile(mainModel)\n",
        "#mainModel = Main_LSTM()\n",
        "criterion = nn.MSELoss()  # Mean Squared Error is common for regression tasks\n",
        "optimizer_main = optim.Adam(mainModel.parameters(), lr=0.001)"
      ],
      "metadata": {
        "id": "baoZqyBwC9ld"
      },
      "execution_count": 48,
      "outputs": []
    },
    {
      "cell_type": "code",
      "source": [
        "#mainModel.load_state_dict(torch.load(r'/content/drive/MyDrive/Colab Notebooks/modelMain8_WithTime_5Stations_k_3_MoreLayers.pth'))"
      ],
      "metadata": {
        "id": "y_8NUOvzs--8"
      },
      "execution_count": null,
      "outputs": []
    },
    {
      "cell_type": "markdown",
      "source": [
        "Model Created\n",
        "##train Model"
      ],
      "metadata": {
        "id": "sK5xQx7HhK28"
      }
    },
    {
      "cell_type": "code",
      "source": [
        "num_epochs = 65\n",
        "loss_per_epoch = []\n",
        "for epoch in tqdm(range(num_epochs)):\n",
        "  mainModel.train()\n",
        "  #epoch_lossList = []\n",
        "  epoch_loss = 0.0\n",
        "  for inputs, target in train_loader:\n",
        "      # Move data to the same device as the model\n",
        "      #inputs = inputs.to(device)      # shape: (batch_size, 24, 6)\n",
        "      #target = target.to(device)      # shape: (batch_size,)\n",
        "\n",
        "      optimizer_main.zero_grad()\n",
        "\n",
        "      # Forward pass: predict GHI\n",
        "      output = mainModel(inputs)          # shape: (batch_size, 1)\n",
        "\n",
        "      # Compute loss (unsqueeze target if necessary to match output shape)\n",
        "      loss = criterion(output, target.unsqueeze(1))\n",
        "\n",
        "      # Backward pass and optimization\n",
        "      loss.backward()\n",
        "      optimizer_main.step()\n",
        "      epoch_loss += loss.item() * inputs.size(0)\n",
        "\n",
        "      #epoch_lossList.append(loss.item())\n",
        "\n",
        "  epoch_loss /= len(dataset)\n",
        "  loss_per_epoch.append(epoch_loss)\n",
        "  print(f\"Epoch {epoch+1}/{num_epochs}, Loss: {epoch_loss:.8f}\")"
      ],
      "metadata": {
        "id": "mT328EUuDCWX",
        "colab": {
          "base_uri": "https://localhost:8080/"
        },
        "outputId": "c9472a79-20e5-4a72-b147-8386d4f7f448"
      },
      "execution_count": null,
      "outputs": [
        {
          "output_type": "stream",
          "name": "stderr",
          "text": [
            "  2%|▏         | 1/50 [02:45<2:15:25, 165.83s/it]"
          ]
        },
        {
          "output_type": "stream",
          "name": "stdout",
          "text": [
            "Epoch 1/50, Loss: 0.06139585\n"
          ]
        },
        {
          "output_type": "stream",
          "name": "stderr",
          "text": [
            "\r  4%|▍         | 2/50 [05:25<2:09:35, 161.98s/it]"
          ]
        },
        {
          "output_type": "stream",
          "name": "stdout",
          "text": [
            "Epoch 2/50, Loss: 0.05460892\n"
          ]
        },
        {
          "output_type": "stream",
          "name": "stderr",
          "text": [
            "\r  6%|▌         | 3/50 [08:05<2:06:16, 161.20s/it]"
          ]
        },
        {
          "output_type": "stream",
          "name": "stdout",
          "text": [
            "Epoch 3/50, Loss: 0.05214896\n"
          ]
        },
        {
          "output_type": "stream",
          "name": "stderr",
          "text": [
            "\r  8%|▊         | 4/50 [10:45<2:03:14, 160.75s/it]"
          ]
        },
        {
          "output_type": "stream",
          "name": "stdout",
          "text": [
            "Epoch 4/50, Loss: 0.05058907\n"
          ]
        },
        {
          "output_type": "stream",
          "name": "stderr",
          "text": [
            "\r 10%|█         | 5/50 [13:25<2:00:23, 160.51s/it]"
          ]
        },
        {
          "output_type": "stream",
          "name": "stdout",
          "text": [
            "Epoch 5/50, Loss: 0.04929718\n"
          ]
        },
        {
          "output_type": "stream",
          "name": "stderr",
          "text": [
            "\r 12%|█▏        | 6/50 [16:05<1:57:39, 160.45s/it]"
          ]
        },
        {
          "output_type": "stream",
          "name": "stdout",
          "text": [
            "Epoch 6/50, Loss: 0.04820930\n"
          ]
        },
        {
          "output_type": "stream",
          "name": "stderr",
          "text": [
            "\r 14%|█▍        | 7/50 [18:45<1:54:50, 160.25s/it]"
          ]
        },
        {
          "output_type": "stream",
          "name": "stdout",
          "text": [
            "Epoch 7/50, Loss: 0.04711741\n"
          ]
        },
        {
          "output_type": "stream",
          "name": "stderr",
          "text": [
            "\r 16%|█▌        | 8/50 [21:27<1:52:24, 160.59s/it]"
          ]
        },
        {
          "output_type": "stream",
          "name": "stdout",
          "text": [
            "Epoch 8/50, Loss: 0.04625118\n"
          ]
        },
        {
          "output_type": "stream",
          "name": "stderr",
          "text": [
            "\r 18%|█▊        | 9/50 [24:08<1:49:51, 160.76s/it]"
          ]
        },
        {
          "output_type": "stream",
          "name": "stdout",
          "text": [
            "Epoch 9/50, Loss: 0.04550551\n"
          ]
        },
        {
          "output_type": "stream",
          "name": "stderr",
          "text": [
            "\r 20%|██        | 10/50 [26:46<1:46:43, 160.09s/it]"
          ]
        },
        {
          "output_type": "stream",
          "name": "stdout",
          "text": [
            "Epoch 10/50, Loss: 0.04478357\n"
          ]
        },
        {
          "output_type": "stream",
          "name": "stderr",
          "text": [
            "\r 22%|██▏       | 11/50 [29:26<1:43:59, 159.98s/it]"
          ]
        },
        {
          "output_type": "stream",
          "name": "stdout",
          "text": [
            "Epoch 11/50, Loss: 0.04416036\n"
          ]
        },
        {
          "output_type": "stream",
          "name": "stderr",
          "text": [
            "\r 24%|██▍       | 12/50 [32:06<1:41:23, 160.08s/it]"
          ]
        },
        {
          "output_type": "stream",
          "name": "stdout",
          "text": [
            "Epoch 12/50, Loss: 0.04334982\n"
          ]
        },
        {
          "output_type": "stream",
          "name": "stderr",
          "text": [
            "\r 26%|██▌       | 13/50 [34:47<1:38:49, 160.27s/it]"
          ]
        },
        {
          "output_type": "stream",
          "name": "stdout",
          "text": [
            "Epoch 13/50, Loss: 0.04273068\n"
          ]
        },
        {
          "output_type": "stream",
          "name": "stderr",
          "text": [
            "\r 28%|██▊       | 14/50 [37:26<1:35:58, 159.95s/it]"
          ]
        },
        {
          "output_type": "stream",
          "name": "stdout",
          "text": [
            "Epoch 14/50, Loss: 0.04195827\n"
          ]
        },
        {
          "output_type": "stream",
          "name": "stderr",
          "text": [
            "\r 30%|███       | 15/50 [40:06<1:33:18, 159.96s/it]"
          ]
        },
        {
          "output_type": "stream",
          "name": "stdout",
          "text": [
            "Epoch 15/50, Loss: 0.04122261\n"
          ]
        },
        {
          "output_type": "stream",
          "name": "stderr",
          "text": [
            "\r 32%|███▏      | 16/50 [42:47<1:30:49, 160.27s/it]"
          ]
        },
        {
          "output_type": "stream",
          "name": "stdout",
          "text": [
            "Epoch 16/50, Loss: 0.04035235\n"
          ]
        },
        {
          "output_type": "stream",
          "name": "stderr",
          "text": [
            "\r 34%|███▍      | 17/50 [45:27<1:28:02, 160.09s/it]"
          ]
        },
        {
          "output_type": "stream",
          "name": "stdout",
          "text": [
            "Epoch 17/50, Loss: 0.03958079\n"
          ]
        },
        {
          "output_type": "stream",
          "name": "stderr",
          "text": [
            "\r 36%|███▌      | 18/50 [48:08<1:25:35, 160.50s/it]"
          ]
        },
        {
          "output_type": "stream",
          "name": "stdout",
          "text": [
            "Epoch 18/50, Loss: 0.03864635\n"
          ]
        },
        {
          "output_type": "stream",
          "name": "stderr",
          "text": [
            "\r 38%|███▊      | 19/50 [50:48<1:22:51, 160.37s/it]"
          ]
        },
        {
          "output_type": "stream",
          "name": "stdout",
          "text": [
            "Epoch 19/50, Loss: 0.03765174\n"
          ]
        },
        {
          "output_type": "stream",
          "name": "stderr",
          "text": [
            "\r 40%|████      | 20/50 [53:29<1:20:13, 160.45s/it]"
          ]
        },
        {
          "output_type": "stream",
          "name": "stdout",
          "text": [
            "Epoch 20/50, Loss: 0.03678955\n"
          ]
        },
        {
          "output_type": "stream",
          "name": "stderr",
          "text": [
            "\r 42%|████▏     | 21/50 [56:09<1:17:27, 160.26s/it]"
          ]
        },
        {
          "output_type": "stream",
          "name": "stdout",
          "text": [
            "Epoch 21/50, Loss: 0.03583600\n"
          ]
        },
        {
          "output_type": "stream",
          "name": "stderr",
          "text": [
            "\r 44%|████▍     | 22/50 [58:50<1:14:53, 160.47s/it]"
          ]
        },
        {
          "output_type": "stream",
          "name": "stdout",
          "text": [
            "Epoch 22/50, Loss: 0.03499164\n"
          ]
        },
        {
          "output_type": "stream",
          "name": "stderr",
          "text": [
            "\r 46%|████▌     | 23/50 [1:01:32<1:12:26, 161.00s/it]"
          ]
        },
        {
          "output_type": "stream",
          "name": "stdout",
          "text": [
            "Epoch 23/50, Loss: 0.03413980\n"
          ]
        },
        {
          "output_type": "stream",
          "name": "stderr",
          "text": [
            "\r 48%|████▊     | 24/50 [1:04:15<1:10:01, 161.60s/it]"
          ]
        },
        {
          "output_type": "stream",
          "name": "stdout",
          "text": [
            "Epoch 24/50, Loss: 0.03319684\n"
          ]
        },
        {
          "output_type": "stream",
          "name": "stderr",
          "text": [
            "\r 50%|█████     | 25/50 [1:06:56<1:07:12, 161.29s/it]"
          ]
        },
        {
          "output_type": "stream",
          "name": "stdout",
          "text": [
            "Epoch 25/50, Loss: 0.03252714\n"
          ]
        },
        {
          "output_type": "stream",
          "name": "stderr",
          "text": [
            "\r 52%|█████▏    | 26/50 [1:09:38<1:04:38, 161.59s/it]"
          ]
        },
        {
          "output_type": "stream",
          "name": "stdout",
          "text": [
            "Epoch 26/50, Loss: 0.03168581\n"
          ]
        },
        {
          "output_type": "stream",
          "name": "stderr",
          "text": [
            "\r 54%|█████▍    | 27/50 [1:12:18<1:01:49, 161.30s/it]"
          ]
        },
        {
          "output_type": "stream",
          "name": "stdout",
          "text": [
            "Epoch 27/50, Loss: 0.03069421\n"
          ]
        },
        {
          "output_type": "stream",
          "name": "stderr",
          "text": [
            "\r 56%|█████▌    | 28/50 [1:14:58<58:59, 160.87s/it]  "
          ]
        },
        {
          "output_type": "stream",
          "name": "stdout",
          "text": [
            "Epoch 28/50, Loss: 0.02996810\n"
          ]
        },
        {
          "output_type": "stream",
          "name": "stderr",
          "text": [
            "\r 58%|█████▊    | 29/50 [1:17:39<56:16, 160.77s/it]"
          ]
        },
        {
          "output_type": "stream",
          "name": "stdout",
          "text": [
            "Epoch 29/50, Loss: 0.02931900\n"
          ]
        },
        {
          "output_type": "stream",
          "name": "stderr",
          "text": [
            "\r 60%|██████    | 30/50 [1:20:19<53:31, 160.57s/it]"
          ]
        },
        {
          "output_type": "stream",
          "name": "stdout",
          "text": [
            "Epoch 30/50, Loss: 0.02862734\n"
          ]
        },
        {
          "output_type": "stream",
          "name": "stderr",
          "text": [
            "\r 62%|██████▏   | 31/50 [1:22:59<50:47, 160.37s/it]"
          ]
        },
        {
          "output_type": "stream",
          "name": "stdout",
          "text": [
            "Epoch 31/50, Loss: 0.02791340\n"
          ]
        },
        {
          "output_type": "stream",
          "name": "stderr",
          "text": [
            "\r 64%|██████▍   | 32/50 [1:25:37<47:56, 159.80s/it]"
          ]
        },
        {
          "output_type": "stream",
          "name": "stdout",
          "text": [
            "Epoch 32/50, Loss: 0.02725245\n"
          ]
        },
        {
          "output_type": "stream",
          "name": "stderr",
          "text": [
            "\r 66%|██████▌   | 33/50 [1:28:16<45:13, 159.60s/it]"
          ]
        },
        {
          "output_type": "stream",
          "name": "stdout",
          "text": [
            "Epoch 33/50, Loss: 0.02672658\n"
          ]
        },
        {
          "output_type": "stream",
          "name": "stderr",
          "text": [
            "\r 68%|██████▊   | 34/50 [1:30:57<42:37, 159.83s/it]"
          ]
        },
        {
          "output_type": "stream",
          "name": "stdout",
          "text": [
            "Epoch 34/50, Loss: 0.02613258\n"
          ]
        },
        {
          "output_type": "stream",
          "name": "stderr",
          "text": [
            "\r 70%|███████   | 35/50 [1:33:38<40:01, 160.12s/it]"
          ]
        },
        {
          "output_type": "stream",
          "name": "stdout",
          "text": [
            "Epoch 35/50, Loss: 0.02547848\n"
          ]
        },
        {
          "output_type": "stream",
          "name": "stderr",
          "text": [
            "\r 72%|███████▏  | 36/50 [1:36:18<37:23, 160.28s/it]"
          ]
        },
        {
          "output_type": "stream",
          "name": "stdout",
          "text": [
            "Epoch 36/50, Loss: 0.02496747\n"
          ]
        },
        {
          "output_type": "stream",
          "name": "stderr",
          "text": [
            "\r 74%|███████▍  | 37/50 [1:39:00<34:48, 160.63s/it]"
          ]
        },
        {
          "output_type": "stream",
          "name": "stdout",
          "text": [
            "Epoch 37/50, Loss: 0.02447281\n"
          ]
        },
        {
          "output_type": "stream",
          "name": "stderr",
          "text": [
            "\r 76%|███████▌  | 38/50 [1:41:41<32:10, 160.84s/it]"
          ]
        },
        {
          "output_type": "stream",
          "name": "stdout",
          "text": [
            "Epoch 38/50, Loss: 0.02399137\n"
          ]
        },
        {
          "output_type": "stream",
          "name": "stderr",
          "text": [
            "\r 78%|███████▊  | 39/50 [1:44:22<29:28, 160.75s/it]"
          ]
        },
        {
          "output_type": "stream",
          "name": "stdout",
          "text": [
            "Epoch 39/50, Loss: 0.02347818\n"
          ]
        },
        {
          "output_type": "stream",
          "name": "stderr",
          "text": [
            "\r 80%|████████  | 40/50 [1:47:02<26:47, 160.77s/it]"
          ]
        },
        {
          "output_type": "stream",
          "name": "stdout",
          "text": [
            "Epoch 40/50, Loss: 0.02310646\n"
          ]
        },
        {
          "output_type": "stream",
          "name": "stderr",
          "text": [
            "\r 82%|████████▏ | 41/50 [1:49:44<24:08, 160.96s/it]"
          ]
        },
        {
          "output_type": "stream",
          "name": "stdout",
          "text": [
            "Epoch 41/50, Loss: 0.02267497\n"
          ]
        },
        {
          "output_type": "stream",
          "name": "stderr",
          "text": [
            "\r 84%|████████▍ | 42/50 [1:52:24<21:26, 160.82s/it]"
          ]
        },
        {
          "output_type": "stream",
          "name": "stdout",
          "text": [
            "Epoch 42/50, Loss: 0.02218894\n"
          ]
        },
        {
          "output_type": "stream",
          "name": "stderr",
          "text": [
            "\r 86%|████████▌ | 43/50 [1:55:05<18:45, 160.73s/it]"
          ]
        },
        {
          "output_type": "stream",
          "name": "stdout",
          "text": [
            "Epoch 43/50, Loss: 0.02177436\n"
          ]
        },
        {
          "output_type": "stream",
          "name": "stderr",
          "text": [
            "\r 88%|████████▊ | 44/50 [1:57:45<16:04, 160.67s/it]"
          ]
        },
        {
          "output_type": "stream",
          "name": "stdout",
          "text": [
            "Epoch 44/50, Loss: 0.02144101\n"
          ]
        },
        {
          "output_type": "stream",
          "name": "stderr",
          "text": [
            "\r 90%|█████████ | 45/50 [2:00:26<13:23, 160.70s/it]"
          ]
        },
        {
          "output_type": "stream",
          "name": "stdout",
          "text": [
            "Epoch 45/50, Loss: 0.02097458\n"
          ]
        },
        {
          "output_type": "stream",
          "name": "stderr",
          "text": [
            "\r 92%|█████████▏| 46/50 [2:03:08<10:44, 161.04s/it]"
          ]
        },
        {
          "output_type": "stream",
          "name": "stdout",
          "text": [
            "Epoch 46/50, Loss: 0.02064673\n"
          ]
        },
        {
          "output_type": "stream",
          "name": "stderr",
          "text": [
            "\r 94%|█████████▍| 47/50 [2:05:50<08:04, 161.39s/it]"
          ]
        },
        {
          "output_type": "stream",
          "name": "stdout",
          "text": [
            "Epoch 47/50, Loss: 0.02036142\n"
          ]
        },
        {
          "output_type": "stream",
          "name": "stderr",
          "text": [
            "\r 96%|█████████▌| 48/50 [2:08:30<05:22, 161.06s/it]"
          ]
        },
        {
          "output_type": "stream",
          "name": "stdout",
          "text": [
            "Epoch 48/50, Loss: 0.02007884\n"
          ]
        },
        {
          "output_type": "stream",
          "name": "stderr",
          "text": [
            "\r 98%|█████████▊| 49/50 [2:11:15<02:41, 162.00s/it]"
          ]
        },
        {
          "output_type": "stream",
          "name": "stdout",
          "text": [
            "Epoch 49/50, Loss: 0.01972966\n"
          ]
        },
        {
          "output_type": "stream",
          "name": "stderr",
          "text": [
            "100%|██████████| 50/50 [2:14:00<00:00, 160.82s/it]"
          ]
        },
        {
          "output_type": "stream",
          "name": "stdout",
          "text": [
            "Epoch 50/50, Loss: 0.01946101\n"
          ]
        },
        {
          "output_type": "stream",
          "name": "stderr",
          "text": [
            "\n"
          ]
        }
      ]
    },
    {
      "cell_type": "code",
      "source": [
        "#torch.save(mainModel.state_dict(), r'/content/drive/MyDrive/Colab Notebooks/modelMain_WithTime_k_3_5wanted.pth')"
      ],
      "metadata": {
        "id": "Ak3gMDz7eA31"
      },
      "execution_count": null,
      "outputs": []
    },
    {
      "cell_type": "code",
      "source": [
        "plt.plot(loss_per_epoch)\n",
        "plt.xlabel('Epoch')\n",
        "plt.ylabel('Loss')\n",
        "plt.title('Loss per Epoch')\n",
        "plt.show()"
      ],
      "metadata": {
        "id": "UsoGxPGio96o",
        "colab": {
          "base_uri": "https://localhost:8080/",
          "height": 472
        },
        "outputId": "8d14afc2-ae84-4820-aac9-b1c84ec21fd2"
      },
      "execution_count": null,
      "outputs": [
        {
          "output_type": "display_data",
          "data": {
            "text/plain": [
              "<Figure size 640x480 with 1 Axes>"
            ],
            "image/png": "[encoded data removed]"
          },
          "metadata": {}
        }
      ]
    },
    {
      "cell_type": "markdown",
      "source": [
        "Training done\n",
        "##Model performance measurements"
      ],
      "metadata": {
        "id": "zm0VH77FhD7D"
      }
    },
    {
      "cell_type": "code",
      "source": [
        "mainModel.load_state_dict(torch.load(r'/content/drive/MyDrive/Colab Notebooks/modelMain_WithTime_k_3_5wanted.pth', map_location=torch.device('cpu')))"
      ],
      "metadata": {
        "colab": {
          "base_uri": "https://localhost:8080/"
        },
        "id": "AGaDHa2tW0Vl",
        "outputId": "b1d41175-b417-4564-f115-29ffcc7b81a1"
      },
      "execution_count": 49,
      "outputs": [
        {
          "output_type": "execute_result",
          "data": {
            "text/plain": [
              "<All keys matched successfully>"
            ]
          },
          "metadata": {},
          "execution_count": 49
        }
      ]
    },
    {
      "cell_type": "code",
      "source": [
        "# if(combined_test_chunked_data_tensor.shape):\n",
        "#   dataset = GHIDataset(combined_test_chunked_data_tensor, device=device)\n",
        "#   train_loader = DataLoader(dataset, batch_size=32, shuffle=True)\n",
        "# dataset = GHIDataset(combined_chunked_data_tensor, device=device)\n",
        "# train_loader = DataLoader(dataset, batch_size=32, shuffle=True)\n",
        "mainModel.eval()\n",
        "outputlist = []\n",
        "targetData=[]\n",
        "colourList = []\n",
        "for inputs, targets in train_loader:\n",
        "  output = mainModel(inputs)\n",
        "  colourList.append(inputs[:,-1].detach().cpu().numpy())#Saving hour before predicted hour\n",
        "  targetData.append(targets.detach().cpu().numpy())\n",
        "  outputlist.append(output.detach().cpu().numpy())\n",
        "colourList = np.concatenate(colourList[:-1], axis=0)#Last batch size is too small so getting rid of it with the -1\n",
        "outputlist = np.concatenate(outputlist[:-1], axis=0)\n",
        "targetData = np.concatenate(targetData[:-1], axis=0)\n",
        "del combined_test_chunked_data_tensor"
      ],
      "metadata": {
        "id": "9wR7UhcjeTzv"
      },
      "execution_count": 51,
      "outputs": []
    },
    {
      "cell_type": "code",
      "source": [
        "#colourList.shape"
      ],
      "metadata": {
        "colab": {
          "base_uri": "https://localhost:8080/"
        },
        "id": "GpEIWLxhhX2X",
        "outputId": "c915d260-1a03-473f-ef62-a757e24194fb"
      },
      "execution_count": null,
      "outputs": [
        {
          "output_type": "execute_result",
          "data": {
            "text/plain": [
              "(157760, 36)"
            ]
          },
          "metadata": {},
          "execution_count": 149
        }
      ]
    },
    {
      "cell_type": "code",
      "source": [
        "# for i, data in enumerate(train_loader):\n",
        "#   print(data[0].shape)\n",
        "#   print(data[1].shape)\n",
        "#   print(data.shape)"
      ],
      "metadata": {
        "id": "iDl86ftWWOK9"
      },
      "execution_count": null,
      "outputs": []
    },
    {
      "cell_type": "code",
      "source": [
        "'''\n",
        "Wanted:\n",
        "Global horizontal irradiance / kJ/m2',\n",
        "'Direct normal irradiance / kJ/m2',\n",
        "'Diffuse horizontal irradiance / kJ/m2',\n",
        "'Wind speed / 0.1 m/s',\n",
        "'Hour_sin',\n",
        "'Hour_cos',\n",
        "'Month_sin',\n",
        "'Month_cos',\n",
        "'wind_dir_sin',\n",
        "'wind_dir_cos',\n",
        "\n",
        "\n",
        "Nearest*3:\n",
        "Global horizontal irradiance / kJ/m2',\n",
        "'Direct normal irradiance / kJ/m2',\n",
        "'Diffuse horizontal irradiance / kJ/m2',\n",
        "'Wind speed / 0.1 m/s',\n",
        "'wind_dir_sin',\n",
        "'wind_dir_cos',\n",
        "'distanceX',\n",
        "'distanceY\n",
        "'''"
      ],
      "metadata": {
        "id": "8op2IEbMzUdy"
      },
      "execution_count": null,
      "outputs": []
    },
    {
      "cell_type": "code",
      "source": [
        "plt.scatter(targetData, outputlist-targetData, c=colourList[:,10], alpha=0.25)\n",
        "plt.axis('equal')\n",
        "plt.colorbar(label=\"Auxiliary station 1 GHI\")\n",
        "plt.xlabel('Actual GHI')\n",
        "plt.ylabel('Difference')\n",
        "plt.title('Difference Plot from training on ROSE-SPIT-(AUT), WHISTLER---NESTERS, ESQUIMALT-HARBOUR, FORT-NELSON-A and HERBERT-ISLAND-(AUT)')\n",
        "plt.grid()\n",
        "plt.show()"
      ],
      "metadata": {
        "id": "H3gFDmkCeW2C"
      },
      "execution_count": null,
      "outputs": []
    },
    {
      "cell_type": "code",
      "source": [
        "targetGHI = targetData*stdGHI1 + meanGHI1\n",
        "outputGHI = outputlist*stdGHI1 + meanGHI1 #normalized\n",
        "# angle_rad = np.arcsin(colourList[:,:,6])# 4 For hours. Can also do 6 for months\n",
        "# angle_deg = np.degrees(angle_rad)\n",
        "# hour = (angle_deg + 90) * 24 / 180  # Map angle from [-90, 90] to [0, 24]\n",
        "# month = (angle_deg + 90) * 12 / 180  # Map angle from [-90, 90] to [0, 12]\n",
        "plt.scatter(targetGHI, outputGHI, c=colourList[:,10], alpha=0.25)\n",
        "plt.axis('equal')\n",
        "plt.colorbar(label=\"Auxiliary station 1 GHI\")\n",
        "plt.xlabel('Actual GHI')\n",
        "plt.ylabel('Predicted GHI')\n",
        "plt.title('Predicted vs Actual GHI Plot from training on ROSE-SPIT-(AUT), WHISTLER---NESTERS, ESQUIMALT-HARBOUR, FORT-NELSON-A and HERBERT-ISLAND-(AUT)')\n",
        "plt.grid()\n",
        "plt.show()"
      ],
      "metadata": {
        "id": "mwKS-YSkmBUm"
      },
      "execution_count": null,
      "outputs": []
    },
    {
      "cell_type": "code",
      "source": [
        "plt.scatter(targetData, colourList[:,0], alpha=0.25)\n",
        "plt.axis('equal')\n",
        "#plt.colorbar(label=\"inputFeature GHI\")\n",
        "plt.xlabel('Actual GHI')\n",
        "plt.ylabel('Hour Before GHI')\n",
        "plt.title('Difference Plot from training on ROSE-SPIT-(AUT), WHISTLER---NESTERS, ESQUIMALT-HARBOUR, FORT-NELSON-A and HERBERT-ISLAND-(AUT)')\n",
        "plt.grid()\n",
        "plt.show()"
      ],
      "metadata": {
        "id": "XDVC25kfNo5F"
      },
      "execution_count": null,
      "outputs": []
    },
    {
      "cell_type": "code",
      "source": [
        "plt.scatter(targetData, targetData-colourList[:,0], alpha=0.25)\n",
        "plt.axis('equal')\n",
        "#plt.colorbar(label=\"inputFeature GHI\")\n",
        "plt.xlabel('Actual GHI')\n",
        "plt.ylabel('Difference with Hour Before GHI')\n",
        "plt.title('Difference Plot  0.08, 0.52 and 0.52, 0.08')\n",
        "plt.grid()\n",
        "plt.show()"
      ],
      "metadata": {
        "id": "vaJlz0UsN7KK"
      },
      "execution_count": null,
      "outputs": []
    },
    {
      "cell_type": "code",
      "source": [
        "LRmodel = LinearRegression()\n",
        "LRmodel.fit(colourList[:,0].reshape(-1,1), targetData)\n",
        "r_sq = LRmodel.score(colourList[:,0].reshape(-1,1), targetData) # Coefficient of determination\n",
        "print(f\"coefficient of determination: {r_sq}\")\n",
        "print(f\"intercept: {LRmodel.intercept_}\")\n",
        "print(f\"coefficients: {LRmodel.coef_}\")\n",
        "\n",
        "y_pred = LRmodel.predict(colourList[:,0].reshape(-1,1))\n",
        "print(f\"predicted response:\\n{y_pred}\")"
      ],
      "metadata": {
        "id": "WAHwrUIGiSrG"
      },
      "execution_count": null,
      "outputs": []
    },
    {
      "cell_type": "code",
      "source": [
        "plt.scatter(targetData, y_pred, alpha=0.25)\n",
        "plt.axis('equal')\n",
        "#plt.colorbar(label=\"inputFeature GHI\")\n",
        "plt.xlabel('Actual GHI')\n",
        "plt.ylabel('Linear Regression prediction of GHI')\n",
        "plt.title('Linear Regression prediction vs Actual GHI Plot from training on ROSE-SPIT-(AUT), WHISTLER---NESTERS, ESQUIMALT-HARBOUR, FORT-NELSON-A and HERBERT-ISLAND-(AUT)')\n",
        "plt.grid()\n",
        "plt.show()"
      ],
      "metadata": {
        "id": "2CXbenbMjGAa",
        "outputId": "58ab2d06-f85c-4a0a-d1ac-f32d1be71e32",
        "colab": {
          "base_uri": "https://localhost:8080/",
          "height": 216
        }
      },
      "execution_count": 2,
      "outputs": [
        {
          "output_type": "error",
          "ename": "NameError",
          "evalue": "name 'plt' is not defined",
          "traceback": [
            "\u001b[0;31m---------------------------------------------------------------------------\u001b[0m",
            "\u001b[0;31mNameError\u001b[0m                                 Traceback (most recent call last)",
            "\u001b[0;32m<ipython-input-2-561621858b58>\u001b[0m in \u001b[0;36m<cell line: 0>\u001b[0;34m()\u001b[0m\n\u001b[0;32m----> 1\u001b[0;31m \u001b[0mplt\u001b[0m\u001b[0;34m.\u001b[0m\u001b[0mscatter\u001b[0m\u001b[0;34m(\u001b[0m\u001b[0mtargetData\u001b[0m\u001b[0;34m,\u001b[0m \u001b[0my_pred\u001b[0m\u001b[0;34m,\u001b[0m \u001b[0malpha\u001b[0m\u001b[0;34m=\u001b[0m\u001b[0;36m0.25\u001b[0m\u001b[0;34m)\u001b[0m\u001b[0;34m\u001b[0m\u001b[0;34m\u001b[0m\u001b[0m\n\u001b[0m\u001b[1;32m      2\u001b[0m \u001b[0mplt\u001b[0m\u001b[0;34m.\u001b[0m\u001b[0maxis\u001b[0m\u001b[0;34m(\u001b[0m\u001b[0;34m'equal'\u001b[0m\u001b[0;34m)\u001b[0m\u001b[0;34m\u001b[0m\u001b[0;34m\u001b[0m\u001b[0m\n\u001b[1;32m      3\u001b[0m \u001b[0;31m#plt.colorbar(label=\"inputFeature GHI\")\u001b[0m\u001b[0;34m\u001b[0m\u001b[0;34m\u001b[0m\u001b[0m\n\u001b[1;32m      4\u001b[0m \u001b[0mplt\u001b[0m\u001b[0;34m.\u001b[0m\u001b[0mxlabel\u001b[0m\u001b[0;34m(\u001b[0m\u001b[0;34m'Actual GHI'\u001b[0m\u001b[0;34m)\u001b[0m\u001b[0;34m\u001b[0m\u001b[0;34m\u001b[0m\u001b[0m\n\u001b[1;32m      5\u001b[0m \u001b[0mplt\u001b[0m\u001b[0;34m.\u001b[0m\u001b[0mylabel\u001b[0m\u001b[0;34m(\u001b[0m\u001b[0;34m'Linear Regression prediction of GHI'\u001b[0m\u001b[0;34m)\u001b[0m\u001b[0;34m\u001b[0m\u001b[0;34m\u001b[0m\u001b[0m\n",
            "\u001b[0;31mNameError\u001b[0m: name 'plt' is not defined"
          ]
        }
      ]
    },
    {
      "cell_type": "code",
      "source": [
        "plt.scatter(targetData, targetData-y_pred, alpha=0.25)\n",
        "plt.axis('equal')\n",
        "#plt.colorbar(label=\"inputFeature GHI\")\n",
        "plt.xlabel('Actual GHI')\n",
        "plt.ylabel('DIfference with Linear Regression prediction of GHI')\n",
        "plt.title('Difference Plot from training on ROSE-SPIT-(AUT), WHISTLER---NESTERS, ESQUIMALT-HARBOUR, FORT-NELSON-A and HERBERT-ISLAND-(AUT)')\n",
        "plt.grid()\n",
        "plt.show()"
      ],
      "metadata": {
        "id": "3449aldIivtE"
      },
      "execution_count": null,
      "outputs": []
    },
    {
      "cell_type": "markdown",
      "source": [
        "Performance eval done\n",
        "##Analyzing data and testing"
      ],
      "metadata": {
        "id": "26mYc4Zyhavx"
      }
    },
    {
      "cell_type": "code",
      "source": [
        "angle = np.arctan2(colourList[:,4], colourList[:,5])# 4(sin), 5(cos) For hours. Can also do 6(sin), 7(cos) for months\n",
        "hour = (angle / (2 * np.pi)) * 24 + 1\n",
        "hour = hour % 24 + 1\n",
        "month =(angle / (2 * np.pi)) * 12 + 1\n",
        "month = month % 12 + 1\n",
        "GHIActual = targetData*stdGHI1 + meanGHI1\n",
        "plt.scatter(hour, GHIActual, alpha=0.25)#Trying to plot hours versus GHI\n",
        "plt.axis('tight')\n",
        "#plt.colorbar(label=\"inputFeature GHI\")\n",
        "plt.xlabel('Hour')\n",
        "plt.ylabel('Actual GHI')\n",
        "plt.title('')\n",
        "plt.grid()\n",
        "plt.show()\n",
        "print(hour.min())"
      ],
      "metadata": {
        "colab": {
          "base_uri": "https://localhost:8080/",
          "height": 467
        },
        "id": "5Qaxr_Nvqx00",
        "outputId": "99bf2874-e05a-4749-b853-8c1c20564607"
      },
      "execution_count": null,
      "outputs": [
        {
          "output_type": "display_data",
          "data": {
            "text/plain": [
              "<Figure size 640x480 with 1 Axes>"
            ],
            "image/png": "[encoded data removed]"
          },
          "metadata": {}
        },
        {
          "output_type": "stream",
          "name": "stdout",
          "text": [
            "1.0\n"
          ]
        }
      ]
    },
    {
      "cell_type": "code",
      "source": [
        "np.unique(colourList[:,4])"
      ],
      "metadata": {
        "colab": {
          "base_uri": "https://localhost:8080/"
        },
        "id": "11t6Z6X0m1Iu",
        "outputId": "9f5a73bb-b954-481e-cf7d-9bdcc6e439a9"
      },
      "execution_count": null,
      "outputs": [
        {
          "output_type": "execute_result",
          "data": {
            "text/plain": [
              "array([-1.0000000e+00, -9.6592581e-01, -8.6602539e-01, -7.0710677e-01,\n",
              "       -5.0000000e-01, -2.5881904e-01,  0.0000000e+00,  1.2246469e-16,\n",
              "        2.5881904e-01,  5.0000000e-01,  7.0710677e-01,  8.6602539e-01,\n",
              "        9.6592581e-01,  1.0000000e+00], dtype=float32)"
            ]
          },
          "metadata": {},
          "execution_count": 121
        }
      ]
    },
    {
      "cell_type": "code",
      "source": [
        "np.unique(colourList[:,5])"
      ],
      "metadata": {
        "colab": {
          "base_uri": "https://localhost:8080/"
        },
        "id": "8rWVLIj_m32v",
        "outputId": "8f88b5b2-3a89-422b-ce86-b684523cad89"
      },
      "execution_count": null,
      "outputs": [
        {
          "output_type": "execute_result",
          "data": {
            "text/plain": [
              "array([-1.0000000e+00, -9.6592581e-01, -8.6602539e-01, -7.0710677e-01,\n",
              "       -5.0000000e-01, -2.5881904e-01, -1.8369701e-16,  6.1232343e-17,\n",
              "        2.5881904e-01,  5.0000000e-01,  7.0710677e-01,  8.6602539e-01,\n",
              "        9.6592581e-01,  1.0000000e+00], dtype=float32)"
            ]
          },
          "metadata": {},
          "execution_count": 120
        }
      ]
    },
    {
      "cell_type": "code",
      "source": [
        "hour[0:50]"
      ],
      "metadata": {
        "colab": {
          "base_uri": "https://localhost:8080/"
        },
        "id": "UscNHNOUkhBx",
        "outputId": "46e7132a-c859-4956-a8db-05b90c7a185f"
      },
      "execution_count": null,
      "outputs": [
        {
          "output_type": "execute_result",
          "data": {
            "text/plain": [
              "array([18., 18., 21., 20., 12.,  0., 23.,  7., 12., 19., 22.,  2.,  8.,\n",
              "        4., 20.,  9., 16.,  3., 11., 15., 14.,  0., 21.,  6., 23., 12.,\n",
              "       21.,  7.,  7., 12., 14., 11.,  5., 18., 13., 21.,  3., 17.,  3.,\n",
              "        8., 12.,  5.,  6., 15., 10.,  4.,  8., 15., 17., 22.],\n",
              "      dtype=float32)"
            ]
          },
          "metadata": {},
          "execution_count": 84
        }
      ]
    },
    {
      "cell_type": "code",
      "source": [
        "np.unique((colourList[:,4]))"
      ],
      "metadata": {
        "colab": {
          "base_uri": "https://localhost:8080/"
        },
        "id": "NgPmB62ie_76",
        "outputId": "811f12a3-3ae3-406f-9bee-50c787ef8d13"
      },
      "execution_count": null,
      "outputs": [
        {
          "output_type": "execute_result",
          "data": {
            "text/plain": [
              "array([-1.0000000e+00, -9.6592581e-01, -8.6602539e-01, -7.0710677e-01,\n",
              "       -5.0000000e-01, -2.5881904e-01,  0.0000000e+00,  1.2246469e-16,\n",
              "        2.5881904e-01,  5.0000000e-01,  7.0710677e-01,  8.6602539e-01,\n",
              "        9.6592581e-01,  1.0000000e+00], dtype=float32)"
            ]
          },
          "metadata": {},
          "execution_count": 78
        }
      ]
    },
    {
      "cell_type": "code",
      "source": [
        "plt.hist(colourList[:,4]);"
      ],
      "metadata": {
        "colab": {
          "base_uri": "https://localhost:8080/",
          "height": 430
        },
        "id": "u6pDEBNRDOmO",
        "outputId": "46d7ec61-ec2f-4df9-e66a-2e2979895325"
      },
      "execution_count": null,
      "outputs": [
        {
          "output_type": "display_data",
          "data": {
            "text/plain": [
              "<Figure size 640x480 with 1 Axes>"
            ],
            "image/png": "[encoded data removed]"
          },
          "metadata": {}
        }
      ]
    },
    {
      "cell_type": "code",
      "source": [
        "def get_nearest_stations_data(nearest_stations_csvs, min_start_year, max_end_year, wantedStationCSV=False, RelativeAnglesDegrees=[(0,0)]):\n",
        "    dfs = []\n",
        "    i = 0\n",
        "    meanGHI = 0\n",
        "    stdGHI = 0\n",
        "    for f in nearest_stations_csvs:\n",
        "      # Read the CSV file with specified columns and data types\n",
        "      df = pd.read_csv(f, delimiter=',', skiprows=2, index_col=False, usecols=usecols, dtype=dtype, on_bad_lines='skip')\n",
        "      # Convert columns to numeric, coercing errors to NaN\n",
        "      for col in usecols:\n",
        "          if(col == 'Year Month Day Hour (YYYYMMDDHH)'):\n",
        "              #keep as string\n",
        "              df['Year Month Day Hour (YYYYMMDDHH)'] = df[col].astype(int)\n",
        "              df = df[df['Year Month Day Hour (YYYYMMDDHH)']>min_start_year]\n",
        "              df = df[df['Year Month Day Hour (YYYYMMDDHH)']<=max_end_year]#Data is between min_start_year and max_end_year to accomidate files that dont have the same amount of data\n",
        "\n",
        "              if(wantedStationCSV): #get month and hour for just wanted station\n",
        "                  df['Year Month Day Hour (YYYYMMDDHH)'] = df['Year Month Day Hour (YYYYMMDDHH)'].astype(str)\n",
        "                  # Get month (1-12)\n",
        "                  df['Month'] = df['Year Month Day Hour (YYYYMMDDHH)'].str[4:6].astype(int)\n",
        "                  # Get hour (1-24)\n",
        "                  df['Hour'] = df['Year Month Day Hour (YYYYMMDDHH)'].str[8:10].astype(int)\n",
        "                  # Normalize hour so cyclic (0-23)\n",
        "                  df['Hour_sin'] = np.sin(2 * np.pi * (df['Hour'] - 1) / 24)  # Sine encoding for hours (adjust for 0-23)\n",
        "                  df['Hour_cos'] = np.cos(2 * np.pi * (df['Hour'] - 1) / 24)  # Cosine encoding for hours (adjust for 0-23)\n",
        "                  # Normalize month so cyclic (0-11))\n",
        "                  df['Month_sin'] = np.sin(2 * np.pi *  (df['Month']-1)/ 12)  # Sine encoding for months\n",
        "                  df['Month_cos'] = np.cos(2 * np.pi *  (df['Month']-1) / 12)  # Cosine encoding for months\n",
        "\n",
        "              df = df.drop(columns=[col], axis=1)\n",
        "              continue\n",
        "\n",
        "          if(col=='Wind direction / 0-359 degrees'):\n",
        "              df[col] = pd.to_numeric(df[col], errors='coerce').replace(99, np.nan)\n",
        "              if(not wantedStationCSV):\n",
        "                df[col] = df[col].apply(lambda x: adjustWindDirection(x, RelativeAnglesDegrees[i]))\n",
        "                #When wind is pointed towards the wanted station it has a new angle of 0 degrees and when pointed directly away from it it has a 180 degrees value now\n",
        "              radians = np.deg2rad(df[col])\n",
        "              df['wind_dir_sin'] = np.sin(radians)\n",
        "              df['wind_dir_cos'] = np.cos(radians)\n",
        "              df = df.drop(columns=[col], axis=1)\n",
        "              continue\n",
        "\n",
        "          if(col == 'Wind speed / 0.1 m/s'):\n",
        "              df[col] = pd.to_numeric(df[col], errors='coerce').replace(99, np.nan)\n",
        "              mean = df[col].mean()\n",
        "              std = df[col].std()\n",
        "              df[col] = (df[col] - mean) / std\n",
        "              continue\n",
        "\n",
        "          if (col == 'Global horizontal irradiance / kJ/m2' or col == 'Direct normal irradiance / kJ/m2' or col == 'Diffuse horizontal irradiance / kJ/m2'):\n",
        "              df[col] = pd.to_numeric(df[col], errors='coerce').replace(9999, np.nan)\n",
        "              mean = df[col].mean()\n",
        "              std = df[col].std()\n",
        "              df[col] = (df[col] - mean) / std #can denormalize output\n",
        "              if (col == 'Global horizontal irradiance / kJ/m2'):\n",
        "                meanGHI = mean\n",
        "                stdGHI = std #for denormalizing\n",
        "              continue\n",
        "          df[col] = pd.to_numeric(df[col], errors='coerce')\n",
        "      df.fillna(0, inplace=True)\n",
        "      dfs.append(df)\n",
        "      i+=1\n",
        "      #print(df.columns)\n",
        "    return dfs, meanGHI, stdGHI"
      ],
      "metadata": {
        "id": "KN-Drkvff8oE"
      },
      "execution_count": null,
      "outputs": []
    },
    {
      "cell_type": "code",
      "source": [
        "def getAllKAuxillaryStationsReadyByWantedStationNameTEST(stationsName_lat_long_datadf, nearest_stations, k, min_start_year, max_end_year, RelativeAnglesDegrees):\n",
        "  #doing all thats needed to get Auxillary stations data ready and in chunked tensors and in order chunked\n",
        "  modified_nearest_stations = modify_nearest_stations(nearest_stations)\n",
        "  nearest_stations_csvs, station_order = find_stations_csv(modified_nearest_stations, csv_files)\n",
        "  nearest_stations_data_dfs, _, _ = get_nearest_stations_data(nearest_stations_csvs, min_start_year, max_end_year, False, RelativeAnglesDegrees)\n",
        "\n",
        "  for i in range(k):\n",
        "    nearest_stations_data_dfs[i][\"distanceX\"] = [nearest_stations['distance'].values[i][1][0]]*len(nearest_stations_data_dfs[i])\n",
        "    nearest_stations_data_dfs[i][\"distanceY\"] = [nearest_stations['distance'].values[i][1][1]]*len(nearest_stations_data_dfs[i])\n",
        "    #print(nearest_stations_data_dfs[i].head())\n",
        "    #print(nearest_stations_data_dfs[i].columns)\n",
        "  return nearest_stations_data_dfs"
      ],
      "metadata": {
        "id": "JPEzk3vLJ2UY"
      },
      "execution_count": null,
      "outputs": []
    },
    {
      "cell_type": "code",
      "source": [
        "def getAllReadyForStationByLatAndLongAndKTEST(stationsName_lat_long_datadf, lat, long, k):\n",
        "  wanted_station = find_nearest_station_given_long_lat(stationsName_lat_long_datadf, lat, long)\n",
        "  max_start_year = wanted_station[\"StartTime\"].values[0]\n",
        "  min_end_year = wanted_station[\"EndTime\"].values[0]\n",
        "\n",
        "  wanted_station.at[wanted_station.index[0], \"distance\"] = (0.0, (0.0, 0.0))\n",
        "  wanted_station_modified = modify_nearest_stations({\"station\": wanted_station[\"station\"]})\n",
        "  wanted_station_csv, _ = find_stations_csv(wanted_station_modified, csv_files)\n",
        "\n",
        "  nearest_stations, target_point = spatially_diverse_knn(stationsName_lat_long_datadf, wanted_station[\"station\"].values[0], k)\n",
        "  plot_stations_matplotlib(target_point, nearest_stations, stationsName_lat_long_datadf)\n",
        "  max_start_year, min_end_year = max(max_start_year, *nearest_stations[\"StartTime\"].values), min(min_end_year, *nearest_stations[\"EndTime\"].values)\n",
        "  max_start_year, min_end_year = getMaxStartMinEndYearComplete(max_start_year, min_end_year)\n",
        "\n",
        "  RelativeAnglesDegrees = []\n",
        "  for distanceVector in nearest_stations[\"distance\"].values:\n",
        "    Relative_Angle_Radians = np.arctan2(distanceVector[1][1], distanceVector[1][0])#Relative Distance Vector y and Distance Vector x\n",
        "    Relative_Angle_Degrees = np.degrees(Relative_Angle_Radians)\n",
        "    if Relative_Angle_Degrees < 0:\n",
        "      Relative_Angle_Degrees += 360\n",
        "    RelativeAnglesDegrees.append(Relative_Angle_Degrees)\n",
        "\n",
        "  nearest_stations_data_dfs = getAllKAuxillaryStationsReadyByWantedStationNameTEST(stationsName_lat_long_datadf, nearest_stations, k, max_start_year, min_end_year, RelativeAnglesDegrees)\n",
        "\n",
        "  wanted_station_data_dfs, mean, std = get_nearest_stations_data(wanted_station_csv, max_start_year, min_end_year,wantedStationCSV=True)\n",
        "  #print(wanted_station_data_dfs[0].head())\n",
        "  #wanted_chunked_tensors, _ = get_chunked_tensors(wanted_station, wanted_station_data_dfs, 25)\n",
        "\n",
        "  return wanted_station_data_dfs, wanted_station[\"station\"].values[0], nearest_stations_data_dfs, mean, std"
      ],
      "metadata": {
        "id": "oue38XvfD0QG"
      },
      "execution_count": null,
      "outputs": []
    },
    {
      "cell_type": "code",
      "source": [
        "wanted_station_data_dfs, wanted_station_name, nearest_stations_data_dfs, mean, std = getAllReadyForStationByLatAndLongAndKTEST(stationsName_lat_long_datadf.copy(), -131.75, 54.5, 3)"
      ],
      "metadata": {
        "colab": {
          "base_uri": "https://localhost:8080/",
          "height": 636
        },
        "id": "7Z27mfBFD8pq",
        "outputId": "6d117d3c-aed9-424b-e354-312f903bdb7b"
      },
      "execution_count": null,
      "outputs": [
        {
          "output_type": "stream",
          "name": "stdout",
          "text": [
            "Station ROSE-SPIT-(AUT) found in /content/drive/MyDrive/Colab Notebooks/CWEEDS_2020_BC/CAN_BC_ROSE-SPIT-(AUT)_1056869_CWEEDS2011_1998-2017.csv\n"
          ]
        },
        {
          "output_type": "display_data",
          "data": {
            "text/plain": [
              "<Figure size 800x600 with 1 Axes>"
            ],
            "image/png": "[encoded data removed]"
          },
          "metadata": {}
        },
        {
          "output_type": "stream",
          "name": "stdout",
          "text": [
            "Station LUCY-ISLAND-LIGHTSTATION found in /content/drive/MyDrive/Colab Notebooks/CWEEDS_2020_BC/CAN_BC_LUCY-ISLAND-LIGHTSTATION_1064728_CWEEDS2011_1999-2017.csv\n",
            "Station LANGARA-ISLAND-RCS found in /content/drive/MyDrive/Colab Notebooks/CWEEDS_2020_BC/CAN_BC_LANGARA-ISLAND-RCS_1054503_CWEEDS2011_1998-2016.csv\n",
            "Station BONILLA-ISLAND-(AUT) found in /content/drive/MyDrive/Colab Notebooks/CWEEDS_2020_BC/CAN_BC_BONILLA-ISLAND-(AUT)_1060R0K_CWEEDS2011_1998-2017.csv\n"
          ]
        }
      ]
    },
    {
      "cell_type": "code",
      "source": [
        "wanted_station_data_dfs[0].iloc[0:25]"
      ],
      "metadata": {
        "colab": {
          "base_uri": "https://localhost:8080/",
          "height": 833
        },
        "id": "_hcoiNsgEFkV",
        "outputId": "b9c30c48-4fe7-4d70-cd9b-8ae461143b46"
      },
      "execution_count": null,
      "outputs": [
        {
          "output_type": "execute_result",
          "data": {
            "text/plain": [
              "      Global horizontal irradiance / kJ/m2  Direct normal irradiance / kJ/m2  \\\n",
              "8760                             -0.581062                         -0.417948   \n",
              "8761                             -0.581062                         -0.417948   \n",
              "8762                             -0.581062                         -0.417948   \n",
              "8763                             -0.581062                         -0.417948   \n",
              "8764                             -0.581062                         -0.417948   \n",
              "8765                             -0.581062                         -0.417948   \n",
              "8766                             -0.581062                         -0.417948   \n",
              "8767                             -0.581062                         -0.417948   \n",
              "8768                             -0.581062                         -0.417948   \n",
              "8769                             -0.581062                         -0.417948   \n",
              "8770                             -0.492223                         -0.417948   \n",
              "8771                             -0.425205                         -0.417948   \n",
              "8772                             -0.387800                         -0.417948   \n",
              "8773                             -0.392476                         -0.417948   \n",
              "8774                             -0.431440                         -0.417948   \n",
              "8775                             -0.506251                         -0.417948   \n",
              "8776                             -0.574827                         -0.417948   \n",
              "8777                             -0.581062                         -0.417948   \n",
              "8778                             -0.581062                         -0.417948   \n",
              "8779                             -0.581062                         -0.417948   \n",
              "8780                             -0.581062                         -0.417948   \n",
              "8781                             -0.581062                         -0.417948   \n",
              "8782                             -0.581062                         -0.417948   \n",
              "8783                             -0.581062                         -0.417948   \n",
              "8784                             -0.581062                         -0.417948   \n",
              "\n",
              "      Diffuse horizontal irradiance / kJ/m2  Wind speed / 0.1 m/s  Month  \\\n",
              "8760                              -0.662343             -1.146427      1   \n",
              "8761                              -0.662343             -1.011795      1   \n",
              "8762                              -0.662343             -1.146427      1   \n",
              "8763                              -0.662343             -0.450830      1   \n",
              "8764                              -0.662343              0.356961      1   \n",
              "8765                              -0.662343              1.030120      1   \n",
              "8766                              -0.662343              0.850611      1   \n",
              "8767                              -0.662343              1.411576      1   \n",
              "8768                              -0.662343              0.962804      1   \n",
              "8769                              -0.662343              1.164752      1   \n",
              "8770                              -0.494043              1.793033      1   \n",
              "8771                              -0.367079              1.658401      1   \n",
              "8772                              -0.296216              1.793033      1   \n",
              "8773                              -0.305074              1.837910      1   \n",
              "8774                              -0.378890              1.793033      1   \n",
              "8775                              -0.520616              1.793033      1   \n",
              "8776                              -0.650532              1.837910      1   \n",
              "8777                              -0.662343              1.972542      1   \n",
              "8778                              -0.662343              1.972542      1   \n",
              "8779                              -0.662343              1.523770      1   \n",
              "8780                              -0.662343              1.276945      1   \n",
              "8781                              -0.662343              1.658401      1   \n",
              "8782                              -0.662343              0.715979      1   \n",
              "8783                              -0.662343              0.469154      1   \n",
              "8784                              -0.662343              0.603786      1   \n",
              "\n",
              "      Hour      Hour_sin      Hour_cos  Month_sin  Month_cos  wind_dir_sin  \\\n",
              "8760     1  0.000000e+00  1.000000e+00        0.0        1.0  1.224647e-16   \n",
              "8761     2  2.588190e-01  9.659258e-01        0.0        1.0  1.224647e-16   \n",
              "8762     3  5.000000e-01  8.660254e-01        0.0        1.0  1.736482e-01   \n",
              "8763     4  7.071068e-01  7.071068e-01        0.0        1.0  6.427876e-01   \n",
              "8764     5  8.660254e-01  5.000000e-01        0.0        1.0  5.000000e-01   \n",
              "8765     6  9.659258e-01  2.588190e-01        0.0        1.0  6.427876e-01   \n",
              "8766     7  1.000000e+00  6.123234e-17        0.0        1.0  6.427876e-01   \n",
              "8767     8  9.659258e-01 -2.588190e-01        0.0        1.0  6.427876e-01   \n",
              "8768     9  8.660254e-01 -5.000000e-01        0.0        1.0  6.427876e-01   \n",
              "8769    10  7.071068e-01 -7.071068e-01        0.0        1.0  6.427876e-01   \n",
              "8770    11  5.000000e-01 -8.660254e-01        0.0        1.0  7.660444e-01   \n",
              "8771    12  2.588190e-01 -9.659258e-01        0.0        1.0  7.660444e-01   \n",
              "8772    13  1.224647e-16 -1.000000e+00        0.0        1.0  6.427876e-01   \n",
              "8773    14 -2.588190e-01 -9.659258e-01        0.0        1.0  6.427876e-01   \n",
              "8774    15 -5.000000e-01 -8.660254e-01        0.0        1.0  6.427876e-01   \n",
              "8775    16 -7.071068e-01 -7.071068e-01        0.0        1.0  6.427876e-01   \n",
              "8776    17 -8.660254e-01 -5.000000e-01        0.0        1.0  6.427876e-01   \n",
              "8777    18 -9.659258e-01 -2.588190e-01        0.0        1.0  6.427876e-01   \n",
              "8778    19 -1.000000e+00 -1.836970e-16        0.0        1.0  6.427876e-01   \n",
              "8779    20 -9.659258e-01  2.588190e-01        0.0        1.0  6.427876e-01   \n",
              "8780    21 -8.660254e-01  5.000000e-01        0.0        1.0  6.427876e-01   \n",
              "8781    22 -7.071068e-01  7.071068e-01        0.0        1.0  6.427876e-01   \n",
              "8782    23 -5.000000e-01  8.660254e-01        0.0        1.0  6.427876e-01   \n",
              "8783    24 -2.588190e-01  9.659258e-01        0.0        1.0  6.427876e-01   \n",
              "8784     1  0.000000e+00  1.000000e+00        0.0        1.0  5.000000e-01   \n",
              "\n",
              "      wind_dir_cos  \n",
              "8760     -1.000000  \n",
              "8761     -1.000000  \n",
              "8762     -0.984808  \n",
              "8763     -0.766044  \n",
              "8764     -0.866025  \n",
              "8765     -0.766044  \n",
              "8766     -0.766044  \n",
              "8767     -0.766044  \n",
              "8768     -0.766044  \n",
              "8769     -0.766044  \n",
              "8770     -0.642788  \n",
              "8771     -0.642788  \n",
              "8772     -0.766044  \n",
              "8773     -0.766044  \n",
              "8774     -0.766044  \n",
              "8775     -0.766044  \n",
              "8776     -0.766044  \n",
              "8777     -0.766044  \n",
              "8778     -0.766044  \n",
              "8779     -0.766044  \n",
              "8780     -0.766044  \n",
              "8781     -0.766044  \n",
              "8782     -0.766044  \n",
              "8783     -0.766044  \n",
              "8784     -0.866025  "
            ],
            "text/html": [
              "\n",
              "  <div id=\"df-2b9bf597-272f-4a06-94c0-f1fcf5e4461a\" class=\"colab-df-container\">\n",
              "    <div>\n",
              "<style scoped>\n",
              "    .dataframe tbody tr th:only-of-type {\n",
              "        vertical-align: middle;\n",
              "    }\n",
              "\n",
              "    .dataframe tbody tr th {\n",
              "        vertical-align: top;\n",
              "    }\n",
              "\n",
              "    .dataframe thead th {\n",
              "        text-align: right;\n",
              "    }\n",
              "</style>\n",
              "<table border=\"1\" class=\"dataframe\">\n",
              "  <thead>\n",
              "    <tr style=\"text-align: right;\">\n",
              "      <th></th>\n",
              "      <th>Global horizontal irradiance / kJ/m2</th>\n",
              "      <th>Direct normal irradiance / kJ/m2</th>\n",
              "      <th>Diffuse horizontal irradiance / kJ/m2</th>\n",
              "      <th>Wind speed / 0.1 m/s</th>\n",
              "      <th>Month</th>\n",
              "      <th>Hour</th>\n",
              "      <th>Hour_sin</th>\n",
              "      <th>Hour_cos</th>\n",
              "      <th>Month_sin</th>\n",
              "      <th>Month_cos</th>\n",
              "      <th>wind_dir_sin</th>\n",
              "      <th>wind_dir_cos</th>\n",
              "    </tr>\n",
              "  </thead>\n",
              "  <tbody>\n",
              "    <tr>\n",
              "      <th>8760</th>\n",
              "      <td>-0.581062</td>\n",
              "      <td>-0.417948</td>\n",
              "      <td>-0.662343</td>\n",
              "      <td>-1.146427</td>\n",
              "      <td>1</td>\n",
              "      <td>1</td>\n",
              "      <td>0.000000e+00</td>\n",
              "      <td>1.000000e+00</td>\n",
              "      <td>0.0</td>\n",
              "      <td>1.0</td>\n",
              "      <td>1.224647e-16</td>\n",
              "      <td>-1.000000</td>\n",
              "    </tr>\n",
              "    <tr>\n",
              "      <th>8761</th>\n",
              "      <td>-0.581062</td>\n",
              "      <td>-0.417948</td>\n",
              "      <td>-0.662343</td>\n",
              "      <td>-1.011795</td>\n",
              "      <td>1</td>\n",
              "      <td>2</td>\n",
              "      <td>2.588190e-01</td>\n",
              "      <td>9.659258e-01</td>\n",
              "      <td>0.0</td>\n",
              "      <td>1.0</td>\n",
              "      <td>1.224647e-16</td>\n",
              "      <td>-1.000000</td>\n",
              "    </tr>\n",
              "    <tr>\n",
              "      <th>8762</th>\n",
              "      <td>-0.581062</td>\n",
              "      <td>-0.417948</td>\n",
              "      <td>-0.662343</td>\n",
              "      <td>-1.146427</td>\n",
              "      <td>1</td>\n",
              "      <td>3</td>\n",
              "      <td>5.000000e-01</td>\n",
              "      <td>8.660254e-01</td>\n",
              "      <td>0.0</td>\n",
              "      <td>1.0</td>\n",
              "      <td>1.736482e-01</td>\n",
              "      <td>-0.984808</td>\n",
              "    </tr>\n",
              "    <tr>\n",
              "      <th>8763</th>\n",
              "      <td>-0.581062</td>\n",
              "      <td>-0.417948</td>\n",
              "      <td>-0.662343</td>\n",
              "      <td>-0.450830</td>\n",
              "      <td>1</td>\n",
              "      <td>4</td>\n",
              "      <td>7.071068e-01</td>\n",
              "      <td>7.071068e-01</td>\n",
              "      <td>0.0</td>\n",
              "      <td>1.0</td>\n",
              "      <td>6.427876e-01</td>\n",
              "      <td>-0.766044</td>\n",
              "    </tr>\n",
              "    <tr>\n",
              "      <th>8764</th>\n",
              "      <td>-0.581062</td>\n",
              "      <td>-0.417948</td>\n",
              "      <td>-0.662343</td>\n",
              "      <td>0.356961</td>\n",
              "      <td>1</td>\n",
              "      <td>5</td>\n",
              "      <td>8.660254e-01</td>\n",
              "      <td>5.000000e-01</td>\n",
              "      <td>0.0</td>\n",
              "      <td>1.0</td>\n",
              "      <td>5.000000e-01</td>\n",
              "      <td>-0.866025</td>\n",
              "    </tr>\n",
              "    <tr>\n",
              "      <th>8765</th>\n",
              "      <td>-0.581062</td>\n",
              "      <td>-0.417948</td>\n",
              "      <td>-0.662343</td>\n",
              "      <td>1.030120</td>\n",
              "      <td>1</td>\n",
              "      <td>6</td>\n",
              "      <td>9.659258e-01</td>\n",
              "      <td>2.588190e-01</td>\n",
              "      <td>0.0</td>\n",
              "      <td>1.0</td>\n",
              "      <td>6.427876e-01</td>\n",
              "      <td>-0.766044</td>\n",
              "    </tr>\n",
              "    <tr>\n",
              "      <th>8766</th>\n",
              "      <td>-0.581062</td>\n",
              "      <td>-0.417948</td>\n",
              "      <td>-0.662343</td>\n",
              "      <td>0.850611</td>\n",
              "      <td>1</td>\n",
              "      <td>7</td>\n",
              "      <td>1.000000e+00</td>\n",
              "      <td>6.123234e-17</td>\n",
              "      <td>0.0</td>\n",
              "      <td>1.0</td>\n",
              "      <td>6.427876e-01</td>\n",
              "      <td>-0.766044</td>\n",
              "    </tr>\n",
              "    <tr>\n",
              "      <th>8767</th>\n",
              "      <td>-0.581062</td>\n",
              "      <td>-0.417948</td>\n",
              "      <td>-0.662343</td>\n",
              "      <td>1.411576</td>\n",
              "      <td>1</td>\n",
              "      <td>8</td>\n",
              "      <td>9.659258e-01</td>\n",
              "      <td>-2.588190e-01</td>\n",
              "      <td>0.0</td>\n",
              "      <td>1.0</td>\n",
              "      <td>6.427876e-01</td>\n",
              "      <td>-0.766044</td>\n",
              "    </tr>\n",
              "    <tr>\n",
              "      <th>8768</th>\n",
              "      <td>-0.581062</td>\n",
              "      <td>-0.417948</td>\n",
              "      <td>-0.662343</td>\n",
              "      <td>0.962804</td>\n",
              "      <td>1</td>\n",
              "      <td>9</td>\n",
              "      <td>8.660254e-01</td>\n",
              "      <td>-5.000000e-01</td>\n",
              "      <td>0.0</td>\n",
              "      <td>1.0</td>\n",
              "      <td>6.427876e-01</td>\n",
              "      <td>-0.766044</td>\n",
              "    </tr>\n",
              "    <tr>\n",
              "      <th>8769</th>\n",
              "      <td>-0.581062</td>\n",
              "      <td>-0.417948</td>\n",
              "      <td>-0.662343</td>\n",
              "      <td>1.164752</td>\n",
              "      <td>1</td>\n",
              "      <td>10</td>\n",
              "      <td>7.071068e-01</td>\n",
              "      <td>-7.071068e-01</td>\n",
              "      <td>0.0</td>\n",
              "      <td>1.0</td>\n",
              "      <td>6.427876e-01</td>\n",
              "      <td>-0.766044</td>\n",
              "    </tr>\n",
              "    <tr>\n",
              "      <th>8770</th>\n",
              "      <td>-0.492223</td>\n",
              "      <td>-0.417948</td>\n",
              "      <td>-0.494043</td>\n",
              "      <td>1.793033</td>\n",
              "      <td>1</td>\n",
              "      <td>11</td>\n",
              "      <td>5.000000e-01</td>\n",
              "      <td>-8.660254e-01</td>\n",
              "      <td>0.0</td>\n",
              "      <td>1.0</td>\n",
              "      <td>7.660444e-01</td>\n",
              "      <td>-0.642788</td>\n",
              "    </tr>\n",
              "    <tr>\n",
              "      <th>8771</th>\n",
              "      <td>-0.425205</td>\n",
              "      <td>-0.417948</td>\n",
              "      <td>-0.367079</td>\n",
              "      <td>1.658401</td>\n",
              "      <td>1</td>\n",
              "      <td>12</td>\n",
              "      <td>2.588190e-01</td>\n",
              "      <td>-9.659258e-01</td>\n",
              "      <td>0.0</td>\n",
              "      <td>1.0</td>\n",
              "      <td>7.660444e-01</td>\n",
              "      <td>-0.642788</td>\n",
              "    </tr>\n",
              "    <tr>\n",
              "      <th>8772</th>\n",
              "      <td>-0.387800</td>\n",
              "      <td>-0.417948</td>\n",
              "      <td>-0.296216</td>\n",
              "      <td>1.793033</td>\n",
              "      <td>1</td>\n",
              "      <td>13</td>\n",
              "      <td>1.224647e-16</td>\n",
              "      <td>-1.000000e+00</td>\n",
              "      <td>0.0</td>\n",
              "      <td>1.0</td>\n",
              "      <td>6.427876e-01</td>\n",
              "      <td>-0.766044</td>\n",
              "    </tr>\n",
              "    <tr>\n",
              "      <th>8773</th>\n",
              "      <td>-0.392476</td>\n",
              "      <td>-0.417948</td>\n",
              "      <td>-0.305074</td>\n",
              "      <td>1.837910</td>\n",
              "      <td>1</td>\n",
              "      <td>14</td>\n",
              "      <td>-2.588190e-01</td>\n",
              "      <td>-9.659258e-01</td>\n",
              "      <td>0.0</td>\n",
              "      <td>1.0</td>\n",
              "      <td>6.427876e-01</td>\n",
              "      <td>-0.766044</td>\n",
              "    </tr>\n",
              "    <tr>\n",
              "      <th>8774</th>\n",
              "      <td>-0.431440</td>\n",
              "      <td>-0.417948</td>\n",
              "      <td>-0.378890</td>\n",
              "      <td>1.793033</td>\n",
              "      <td>1</td>\n",
              "      <td>15</td>\n",
              "      <td>-5.000000e-01</td>\n",
              "      <td>-8.660254e-01</td>\n",
              "      <td>0.0</td>\n",
              "      <td>1.0</td>\n",
              "      <td>6.427876e-01</td>\n",
              "      <td>-0.766044</td>\n",
              "    </tr>\n",
              "    <tr>\n",
              "      <th>8775</th>\n",
              "      <td>-0.506251</td>\n",
              "      <td>-0.417948</td>\n",
              "      <td>-0.520616</td>\n",
              "      <td>1.793033</td>\n",
              "      <td>1</td>\n",
              "      <td>16</td>\n",
              "      <td>-7.071068e-01</td>\n",
              "      <td>-7.071068e-01</td>\n",
              "      <td>0.0</td>\n",
              "      <td>1.0</td>\n",
              "      <td>6.427876e-01</td>\n",
              "      <td>-0.766044</td>\n",
              "    </tr>\n",
              "    <tr>\n",
              "      <th>8776</th>\n",
              "      <td>-0.574827</td>\n",
              "      <td>-0.417948</td>\n",
              "      <td>-0.650532</td>\n",
              "      <td>1.837910</td>\n",
              "      <td>1</td>\n",
              "      <td>17</td>\n",
              "      <td>-8.660254e-01</td>\n",
              "      <td>-5.000000e-01</td>\n",
              "      <td>0.0</td>\n",
              "      <td>1.0</td>\n",
              "      <td>6.427876e-01</td>\n",
              "      <td>-0.766044</td>\n",
              "    </tr>\n",
              "    <tr>\n",
              "      <th>8777</th>\n",
              "      <td>-0.581062</td>\n",
              "      <td>-0.417948</td>\n",
              "      <td>-0.662343</td>\n",
              "      <td>1.972542</td>\n",
              "      <td>1</td>\n",
              "      <td>18</td>\n",
              "      <td>-9.659258e-01</td>\n",
              "      <td>-2.588190e-01</td>\n",
              "      <td>0.0</td>\n",
              "      <td>1.0</td>\n",
              "      <td>6.427876e-01</td>\n",
              "      <td>-0.766044</td>\n",
              "    </tr>\n",
              "    <tr>\n",
              "      <th>8778</th>\n",
              "      <td>-0.581062</td>\n",
              "      <td>-0.417948</td>\n",
              "      <td>-0.662343</td>\n",
              "      <td>1.972542</td>\n",
              "      <td>1</td>\n",
              "      <td>19</td>\n",
              "      <td>-1.000000e+00</td>\n",
              "      <td>-1.836970e-16</td>\n",
              "      <td>0.0</td>\n",
              "      <td>1.0</td>\n",
              "      <td>6.427876e-01</td>\n",
              "      <td>-0.766044</td>\n",
              "    </tr>\n",
              "    <tr>\n",
              "      <th>8779</th>\n",
              "      <td>-0.581062</td>\n",
              "      <td>-0.417948</td>\n",
              "      <td>-0.662343</td>\n",
              "      <td>1.523770</td>\n",
              "      <td>1</td>\n",
              "      <td>20</td>\n",
              "      <td>-9.659258e-01</td>\n",
              "      <td>2.588190e-01</td>\n",
              "      <td>0.0</td>\n",
              "      <td>1.0</td>\n",
              "      <td>6.427876e-01</td>\n",
              "      <td>-0.766044</td>\n",
              "    </tr>\n",
              "    <tr>\n",
              "      <th>8780</th>\n",
              "      <td>-0.581062</td>\n",
              "      <td>-0.417948</td>\n",
              "      <td>-0.662343</td>\n",
              "      <td>1.276945</td>\n",
              "      <td>1</td>\n",
              "      <td>21</td>\n",
              "      <td>-8.660254e-01</td>\n",
              "      <td>5.000000e-01</td>\n",
              "      <td>0.0</td>\n",
              "      <td>1.0</td>\n",
              "      <td>6.427876e-01</td>\n",
              "      <td>-0.766044</td>\n",
              "    </tr>\n",
              "    <tr>\n",
              "      <th>8781</th>\n",
              "      <td>-0.581062</td>\n",
              "      <td>-0.417948</td>\n",
              "      <td>-0.662343</td>\n",
              "      <td>1.658401</td>\n",
              "      <td>1</td>\n",
              "      <td>22</td>\n",
              "      <td>-7.071068e-01</td>\n",
              "      <td>7.071068e-01</td>\n",
              "      <td>0.0</td>\n",
              "      <td>1.0</td>\n",
              "      <td>6.427876e-01</td>\n",
              "      <td>-0.766044</td>\n",
              "    </tr>\n",
              "    <tr>\n",
              "      <th>8782</th>\n",
              "      <td>-0.581062</td>\n",
              "      <td>-0.417948</td>\n",
              "      <td>-0.662343</td>\n",
              "      <td>0.715979</td>\n",
              "      <td>1</td>\n",
              "      <td>23</td>\n",
              "      <td>-5.000000e-01</td>\n",
              "      <td>8.660254e-01</td>\n",
              "      <td>0.0</td>\n",
              "      <td>1.0</td>\n",
              "      <td>6.427876e-01</td>\n",
              "      <td>-0.766044</td>\n",
              "    </tr>\n",
              "    <tr>\n",
              "      <th>8783</th>\n",
              "      <td>-0.581062</td>\n",
              "      <td>-0.417948</td>\n",
              "      <td>-0.662343</td>\n",
              "      <td>0.469154</td>\n",
              "      <td>1</td>\n",
              "      <td>24</td>\n",
              "      <td>-2.588190e-01</td>\n",
              "      <td>9.659258e-01</td>\n",
              "      <td>0.0</td>\n",
              "      <td>1.0</td>\n",
              "      <td>6.427876e-01</td>\n",
              "      <td>-0.766044</td>\n",
              "    </tr>\n",
              "    <tr>\n",
              "      <th>8784</th>\n",
              "      <td>-0.581062</td>\n",
              "      <td>-0.417948</td>\n",
              "      <td>-0.662343</td>\n",
              "      <td>0.603786</td>\n",
              "      <td>1</td>\n",
              "      <td>1</td>\n",
              "      <td>0.000000e+00</td>\n",
              "      <td>1.000000e+00</td>\n",
              "      <td>0.0</td>\n",
              "      <td>1.0</td>\n",
              "      <td>5.000000e-01</td>\n",
              "      <td>-0.866025</td>\n",
              "    </tr>\n",
              "  </tbody>\n",
              "</table>\n",
              "</div>\n",
              "    <div class=\"colab-df-buttons\">\n",
              "\n",
              "  <div class=\"colab-df-container\">\n",
              "    <button class=\"colab-df-convert\" onclick=\"convertToInteractive('df-2b9bf597-272f-4a06-94c0-f1fcf5e4461a')\"\n",
              "            title=\"Convert this dataframe to an interactive table.\"\n",
              "            style=\"display:none;\">\n",
              "\n",
              "  <svg xmlns=\"http://www.w3.org/2000/svg\" height=\"24px\" viewBox=\"0 -960 960 960\">\n",
              "    <path d=\"M120-120v-720h720v720H120Zm60-500h600v-160H180v160Zm220 220h160v-160H400v160Zm0 220h160v-160H400v160ZM180-400h160v-160H180v160Zm440 0h160v-160H620v160ZM180-180h160v-160H180v160Zm440 0h160v-160H620v160Z\"/>\n",
              "  </svg>\n",
              "    </button>\n",
              "\n",
              "  <style>\n",
              "    .colab-df-container {\n",
              "      display:flex;\n",
              "      gap: 12px;\n",
              "    }\n",
              "\n",
              "    .colab-df-convert {\n",
              "      background-color: #E8F0FE;\n",
              "      border: none;\n",
              "      border-radius: 50%;\n",
              "      cursor: pointer;\n",
              "      display: none;\n",
              "      fill: #1967D2;\n",
              "      height: 32px;\n",
              "      padding: 0 0 0 0;\n",
              "      width: 32px;\n",
              "    }\n",
              "\n",
              "    .colab-df-convert:hover {\n",
              "      background-color: #E2EBFA;\n",
              "      box-shadow: 0px 1px 2px rgba(60, 64, 67, 0.3), 0px 1px 3px 1px rgba(60, 64, 67, 0.15);\n",
              "      fill: #174EA6;\n",
              "    }\n",
              "\n",
              "    .colab-df-buttons div {\n",
              "      margin-bottom: 4px;\n",
              "    }\n",
              "\n",
              "    [theme=dark] .colab-df-convert {\n",
              "      background-color: #3B4455;\n",
              "      fill: #D2E3FC;\n",
              "    }\n",
              "\n",
              "    [theme=dark] .colab-df-convert:hover {\n",
              "      background-color: #434B5C;\n",
              "      box-shadow: 0px 1px 3px 1px rgba(0, 0, 0, 0.15);\n",
              "      filter: drop-shadow(0px 1px 2px rgba(0, 0, 0, 0.3));\n",
              "      fill: #FFFFFF;\n",
              "    }\n",
              "  </style>\n",
              "\n",
              "    <script>\n",
              "      const buttonEl =\n",
              "        document.querySelector('#df-2b9bf597-272f-4a06-94c0-f1fcf5e4461a button.colab-df-convert');\n",
              "      buttonEl.style.display =\n",
              "        google.colab.kernel.accessAllowed ? 'block' : 'none';\n",
              "\n",
              "      async function convertToInteractive(key) {\n",
              "        const element = document.querySelector('#df-2b9bf597-272f-4a06-94c0-f1fcf5e4461a');\n",
              "        const dataTable =\n",
              "          await google.colab.kernel.invokeFunction('convertToInteractive',\n",
              "                                                    [key], {});\n",
              "        if (!dataTable) return;\n",
              "\n",
              "        const docLinkHtml = 'Like what you see? Visit the ' +\n",
              "          '<a target=\"_blank\" href=https://colab.research.google.com/notebooks/data_table.ipynb>data table notebook</a>'\n",
              "          + ' to learn more about interactive tables.';\n",
              "        element.innerHTML = '';\n",
              "        dataTable['output_type'] = 'display_data';\n",
              "        await google.colab.output.renderOutput(dataTable, element);\n",
              "        const docLink = document.createElement('div');\n",
              "        docLink.innerHTML = docLinkHtml;\n",
              "        element.appendChild(docLink);\n",
              "      }\n",
              "    </script>\n",
              "  </div>\n",
              "\n",
              "\n",
              "    <div id=\"df-b8d52f94-814e-4fd2-8ed7-d14e513e2b10\">\n",
              "      <button class=\"colab-df-quickchart\" onclick=\"quickchart('df-b8d52f94-814e-4fd2-8ed7-d14e513e2b10')\"\n",
              "                title=\"Suggest charts\"\n",
              "                style=\"display:none;\">\n",
              "\n",
              "<svg xmlns=\"http://www.w3.org/2000/svg\" height=\"24px\"viewBox=\"0 0 24 24\"\n",
              "     width=\"24px\">\n",
              "    <g>\n",
              "        <path d=\"M19 3H5c-1.1 0-2 .9-2 2v14c0 1.1.9 2 2 2h14c1.1 0 2-.9 2-2V5c0-1.1-.9-2-2-2zM9 17H7v-7h2v7zm4 0h-2V7h2v10zm4 0h-2v-4h2v4z\"/>\n",
              "    </g>\n",
              "</svg>\n",
              "      </button>\n",
              "\n",
              "<style>\n",
              "  .colab-df-quickchart {\n",
              "      --bg-color: #E8F0FE;\n",
              "      --fill-color: #1967D2;\n",
              "      --hover-bg-color: #E2EBFA;\n",
              "      --hover-fill-color: #174EA6;\n",
              "      --disabled-fill-color: #AAA;\n",
              "      --disabled-bg-color: #DDD;\n",
              "  }\n",
              "\n",
              "  [theme=dark] .colab-df-quickchart {\n",
              "      --bg-color: #3B4455;\n",
              "      --fill-color: #D2E3FC;\n",
              "      --hover-bg-color: #434B5C;\n",
              "      --hover-fill-color: #FFFFFF;\n",
              "      --disabled-bg-color: #3B4455;\n",
              "      --disabled-fill-color: #666;\n",
              "  }\n",
              "\n",
              "  .colab-df-quickchart {\n",
              "    background-color: var(--bg-color);\n",
              "    border: none;\n",
              "    border-radius: 50%;\n",
              "    cursor: pointer;\n",
              "    display: none;\n",
              "    fill: var(--fill-color);\n",
              "    height: 32px;\n",
              "    padding: 0;\n",
              "    width: 32px;\n",
              "  }\n",
              "\n",
              "  .colab-df-quickchart:hover {\n",
              "    background-color: var(--hover-bg-color);\n",
              "    box-shadow: 0 1px 2px rgba(60, 64, 67, 0.3), 0 1px 3px 1px rgba(60, 64, 67, 0.15);\n",
              "    fill: var(--button-hover-fill-color);\n",
              "  }\n",
              "\n",
              "  .colab-df-quickchart-complete:disabled,\n",
              "  .colab-df-quickchart-complete:disabled:hover {\n",
              "    background-color: var(--disabled-bg-color);\n",
              "    fill: var(--disabled-fill-color);\n",
              "    box-shadow: none;\n",
              "  }\n",
              "\n",
              "  .colab-df-spinner {\n",
              "    border: 2px solid var(--fill-color);\n",
              "    border-color: transparent;\n",
              "    border-bottom-color: var(--fill-color);\n",
              "    animation:\n",
              "      spin 1s steps(1) infinite;\n",
              "  }\n",
              "\n",
              "  @keyframes spin {\n",
              "    0% {\n",
              "      border-color: transparent;\n",
              "      border-bottom-color: var(--fill-color);\n",
              "      border-left-color: var(--fill-color);\n",
              "    }\n",
              "    20% {\n",
              "      border-color: transparent;\n",
              "      border-left-color: var(--fill-color);\n",
              "      border-top-color: var(--fill-color);\n",
              "    }\n",
              "    30% {\n",
              "      border-color: transparent;\n",
              "      border-left-color: var(--fill-color);\n",
              "      border-top-color: var(--fill-color);\n",
              "      border-right-color: var(--fill-color);\n",
              "    }\n",
              "    40% {\n",
              "      border-color: transparent;\n",
              "      border-right-color: var(--fill-color);\n",
              "      border-top-color: var(--fill-color);\n",
              "    }\n",
              "    60% {\n",
              "      border-color: transparent;\n",
              "      border-right-color: var(--fill-color);\n",
              "    }\n",
              "    80% {\n",
              "      border-color: transparent;\n",
              "      border-right-color: var(--fill-color);\n",
              "      border-bottom-color: var(--fill-color);\n",
              "    }\n",
              "    90% {\n",
              "      border-color: transparent;\n",
              "      border-bottom-color: var(--fill-color);\n",
              "    }\n",
              "  }\n",
              "</style>\n",
              "\n",
              "      <script>\n",
              "        async function quickchart(key) {\n",
              "          const quickchartButtonEl =\n",
              "            document.querySelector('#' + key + ' button');\n",
              "          quickchartButtonEl.disabled = true;  // To prevent multiple clicks.\n",
              "          quickchartButtonEl.classList.add('colab-df-spinner');\n",
              "          try {\n",
              "            const charts = await google.colab.kernel.invokeFunction(\n",
              "                'suggestCharts', [key], {});\n",
              "          } catch (error) {\n",
              "            console.error('Error during call to suggestCharts:', error);\n",
              "          }\n",
              "          quickchartButtonEl.classList.remove('colab-df-spinner');\n",
              "          quickchartButtonEl.classList.add('colab-df-quickchart-complete');\n",
              "        }\n",
              "        (() => {\n",
              "          let quickchartButtonEl =\n",
              "            document.querySelector('#df-b8d52f94-814e-4fd2-8ed7-d14e513e2b10 button');\n",
              "          quickchartButtonEl.style.display =\n",
              "            google.colab.kernel.accessAllowed ? 'block' : 'none';\n",
              "        })();\n",
              "      </script>\n",
              "    </div>\n",
              "\n",
              "    </div>\n",
              "  </div>\n"
            ],
            "application/vnd.google.colaboratory.intrinsic+json": {
              "type": "dataframe",
              "summary": "{\n  \"name\": \"wanted_station_data_dfs[0]\",\n  \"rows\": 25,\n  \"fields\": [\n    {\n      \"column\": \"Global horizontal irradiance / kJ/m2\",\n      \"properties\": {\n        \"dtype\": \"number\",\n        \"std\": 0.06574194477450966,\n        \"min\": -0.5810615128254684,\n        \"max\": -0.3877998352128675,\n        \"num_unique_values\": 8,\n        \"samples\": [\n          -0.4922234836003212,\n          -0.4314395688673257,\n          -0.5810615128254684\n        ],\n        \"semantic_type\": \"\",\n        \"description\": \"\"\n      }\n    },\n    {\n      \"column\": \"Direct normal irradiance / kJ/m2\",\n      \"properties\": {\n        \"dtype\": \"number\",\n        \"std\": 2.2662332591841974e-16,\n        \"min\": -0.41794828031228487,\n        \"max\": -0.41794828031228487,\n        \"num_unique_values\": 1,\n        \"samples\": [\n          -0.41794828031228487\n        ],\n        \"semantic_type\": \"\",\n        \"description\": \"\"\n      }\n    },\n    {\n      \"column\": \"Diffuse horizontal irradiance / kJ/m2\",\n      \"properties\": {\n        \"dtype\": \"number\",\n        \"std\": 0.12454555455205005,\n        \"min\": -0.6623428926788376,\n        \"max\": -0.29621616955741287,\n        \"num_unique_values\": 8,\n        \"samples\": [\n          -0.49404270543753753\n        ],\n        \"semantic_type\": \"\",\n        \"description\": \"\"\n      }\n    },\n    {\n      \"column\": \"Wind speed / 0.1 m/s\",\n      \"properties\": {\n        \"dtype\": \"number\",\n        \"std\": 0.9905174240309126,\n        \"min\": -1.1464272386964018,\n        \"max\": 1.9725421562169085,\n        \"num_unique_values\": 18,\n        \"samples\": [\n          -1.1464272386964018\n        ],\n        \"semantic_type\": \"\",\n        \"description\": \"\"\n      }\n    },\n    {\n      \"column\": \"Month\",\n      \"properties\": {\n        \"dtype\": \"number\",\n        \"std\": 0,\n        \"min\": 1,\n        \"max\": 1,\n        \"num_unique_values\": 1,\n        \"samples\": [\n          1\n        ],\n        \"semantic_type\": \"\",\n        \"description\": \"\"\n      }\n    },\n    {\n      \"column\": \"Hour\",\n      \"properties\": {\n        \"dtype\": \"number\",\n        \"std\": 7,\n        \"min\": 1,\n        \"max\": 24,\n        \"num_unique_values\": 24,\n        \"samples\": [\n          9\n        ],\n        \"semantic_type\": \"\",\n        \"description\": \"\"\n      }\n    },\n    {\n      \"column\": \"Hour_sin\",\n      \"properties\": {\n        \"dtype\": \"number\",\n        \"std\": 0.7071067811865475,\n        \"min\": -1.0,\n        \"max\": 1.0,\n        \"num_unique_values\": 22,\n        \"samples\": [\n          0.0\n        ],\n        \"semantic_type\": \"\",\n        \"description\": \"\"\n      }\n    },\n    {\n      \"column\": \"Hour_cos\",\n      \"properties\": {\n        \"dtype\": \"number\",\n        \"std\": 0.7348469228349535,\n        \"min\": -1.0,\n        \"max\": 1.0,\n        \"num_unique_values\": 22,\n        \"samples\": [\n          1.0\n        ],\n        \"semantic_type\": \"\",\n        \"description\": \"\"\n      }\n    },\n    {\n      \"column\": \"Month_sin\",\n      \"properties\": {\n        \"dtype\": \"number\",\n        \"std\": 0.0,\n        \"min\": 0.0,\n        \"max\": 0.0,\n        \"num_unique_values\": 1,\n        \"samples\": [\n          0.0\n        ],\n        \"semantic_type\": \"\",\n        \"description\": \"\"\n      }\n    },\n    {\n      \"column\": \"Month_cos\",\n      \"properties\": {\n        \"dtype\": \"number\",\n        \"std\": 0.0,\n        \"min\": 1.0,\n        \"max\": 1.0,\n        \"num_unique_values\": 1,\n        \"samples\": [\n          1.0\n        ],\n        \"semantic_type\": \"\",\n        \"description\": \"\"\n      }\n    },\n    {\n      \"column\": \"wind_dir_sin\",\n      \"properties\": {\n        \"dtype\": \"number\",\n        \"std\": 0.20298803363304882,\n        \"min\": 1.2246467991473532e-16,\n        \"max\": 0.766044443118978,\n        \"num_unique_values\": 5,\n        \"samples\": [\n          0.17364817766693028\n        ],\n        \"semantic_type\": \"\",\n        \"description\": \"\"\n      }\n    },\n    {\n      \"column\": \"wind_dir_cos\",\n      \"properties\": {\n        \"dtype\": \"number\",\n        \"std\": 0.08928288100923282,\n        \"min\": -1.0,\n        \"max\": -0.6427876096865394,\n        \"num_unique_values\": 5,\n        \"samples\": [\n          -0.984807753012208\n        ],\n        \"semantic_type\": \"\",\n        \"description\": \"\"\n      }\n    }\n  ]\n}"
            }
          },
          "metadata": {},
          "execution_count": 122
        }
      ]
    },
    {
      "cell_type": "code",
      "source": [
        "nearest_stations_data_dfs[0].head()"
      ],
      "metadata": {
        "colab": {
          "base_uri": "https://localhost:8080/",
          "height": 206
        },
        "id": "LCN6bV_BKN1Q",
        "outputId": "780ef2da-5c12-4f79-a595-9c2b74f10b99"
      },
      "execution_count": null,
      "outputs": [
        {
          "output_type": "execute_result",
          "data": {
            "text/plain": [
              "   Global horizontal irradiance / kJ/m2  Direct normal irradiance / kJ/m2  \\\n",
              "0                             -0.578652                         -0.414028   \n",
              "1                             -0.578652                         -0.414028   \n",
              "2                             -0.578652                         -0.414028   \n",
              "3                             -0.578652                         -0.414028   \n",
              "4                             -0.578652                         -0.414028   \n",
              "\n",
              "   Diffuse horizontal irradiance / kJ/m2  Wind speed / 0.1 m/s  wind_dir_sin  \\\n",
              "0                              -0.659494              0.596278     -0.568188   \n",
              "1                              -0.659494              0.701851     -0.568188   \n",
              "2                              -0.659494              0.828539     -0.568188   \n",
              "3                              -0.659494              0.828539     -0.568188   \n",
              "4                              -0.659494              0.934112     -0.568188   \n",
              "\n",
              "   wind_dir_cos    distanceX    distanceY  \n",
              "0      0.822899 -8503.660762  6037.884517  \n",
              "1      0.822899 -8503.660762  6037.884517  \n",
              "2      0.822899 -8503.660762  6037.884517  \n",
              "3      0.822899 -8503.660762  6037.884517  \n",
              "4      0.822899 -8503.660762  6037.884517  "
            ],
            "text/html": [
              "\n",
              "  <div id=\"df-63738a60-3f12-4e3a-8a35-3b467104f8b7\" class=\"colab-df-container\">\n",
              "    <div>\n",
              "<style scoped>\n",
              "    .dataframe tbody tr th:only-of-type {\n",
              "        vertical-align: middle;\n",
              "    }\n",
              "\n",
              "    .dataframe tbody tr th {\n",
              "        vertical-align: top;\n",
              "    }\n",
              "\n",
              "    .dataframe thead th {\n",
              "        text-align: right;\n",
              "    }\n",
              "</style>\n",
              "<table border=\"1\" class=\"dataframe\">\n",
              "  <thead>\n",
              "    <tr style=\"text-align: right;\">\n",
              "      <th></th>\n",
              "      <th>Global horizontal irradiance / kJ/m2</th>\n",
              "      <th>Direct normal irradiance / kJ/m2</th>\n",
              "      <th>Diffuse horizontal irradiance / kJ/m2</th>\n",
              "      <th>Wind speed / 0.1 m/s</th>\n",
              "      <th>wind_dir_sin</th>\n",
              "      <th>wind_dir_cos</th>\n",
              "      <th>distanceX</th>\n",
              "      <th>distanceY</th>\n",
              "    </tr>\n",
              "  </thead>\n",
              "  <tbody>\n",
              "    <tr>\n",
              "      <th>0</th>\n",
              "      <td>-0.578652</td>\n",
              "      <td>-0.414028</td>\n",
              "      <td>-0.659494</td>\n",
              "      <td>0.596278</td>\n",
              "      <td>-0.568188</td>\n",
              "      <td>0.822899</td>\n",
              "      <td>-8503.660762</td>\n",
              "      <td>6037.884517</td>\n",
              "    </tr>\n",
              "    <tr>\n",
              "      <th>1</th>\n",
              "      <td>-0.578652</td>\n",
              "      <td>-0.414028</td>\n",
              "      <td>-0.659494</td>\n",
              "      <td>0.701851</td>\n",
              "      <td>-0.568188</td>\n",
              "      <td>0.822899</td>\n",
              "      <td>-8503.660762</td>\n",
              "      <td>6037.884517</td>\n",
              "    </tr>\n",
              "    <tr>\n",
              "      <th>2</th>\n",
              "      <td>-0.578652</td>\n",
              "      <td>-0.414028</td>\n",
              "      <td>-0.659494</td>\n",
              "      <td>0.828539</td>\n",
              "      <td>-0.568188</td>\n",
              "      <td>0.822899</td>\n",
              "      <td>-8503.660762</td>\n",
              "      <td>6037.884517</td>\n",
              "    </tr>\n",
              "    <tr>\n",
              "      <th>3</th>\n",
              "      <td>-0.578652</td>\n",
              "      <td>-0.414028</td>\n",
              "      <td>-0.659494</td>\n",
              "      <td>0.828539</td>\n",
              "      <td>-0.568188</td>\n",
              "      <td>0.822899</td>\n",
              "      <td>-8503.660762</td>\n",
              "      <td>6037.884517</td>\n",
              "    </tr>\n",
              "    <tr>\n",
              "      <th>4</th>\n",
              "      <td>-0.578652</td>\n",
              "      <td>-0.414028</td>\n",
              "      <td>-0.659494</td>\n",
              "      <td>0.934112</td>\n",
              "      <td>-0.568188</td>\n",
              "      <td>0.822899</td>\n",
              "      <td>-8503.660762</td>\n",
              "      <td>6037.884517</td>\n",
              "    </tr>\n",
              "  </tbody>\n",
              "</table>\n",
              "</div>\n",
              "    <div class=\"colab-df-buttons\">\n",
              "\n",
              "  <div class=\"colab-df-container\">\n",
              "    <button class=\"colab-df-convert\" onclick=\"convertToInteractive('df-63738a60-3f12-4e3a-8a35-3b467104f8b7')\"\n",
              "            title=\"Convert this dataframe to an interactive table.\"\n",
              "            style=\"display:none;\">\n",
              "\n",
              "  <svg xmlns=\"http://www.w3.org/2000/svg\" height=\"24px\" viewBox=\"0 -960 960 960\">\n",
              "    <path d=\"M120-120v-720h720v720H120Zm60-500h600v-160H180v160Zm220 220h160v-160H400v160Zm0 220h160v-160H400v160ZM180-400h160v-160H180v160Zm440 0h160v-160H620v160ZM180-180h160v-160H180v160Zm440 0h160v-160H620v160Z\"/>\n",
              "  </svg>\n",
              "    </button>\n",
              "\n",
              "  <style>\n",
              "    .colab-df-container {\n",
              "      display:flex;\n",
              "      gap: 12px;\n",
              "    }\n",
              "\n",
              "    .colab-df-convert {\n",
              "      background-color: #E8F0FE;\n",
              "      border: none;\n",
              "      border-radius: 50%;\n",
              "      cursor: pointer;\n",
              "      display: none;\n",
              "      fill: #1967D2;\n",
              "      height: 32px;\n",
              "      padding: 0 0 0 0;\n",
              "      width: 32px;\n",
              "    }\n",
              "\n",
              "    .colab-df-convert:hover {\n",
              "      background-color: #E2EBFA;\n",
              "      box-shadow: 0px 1px 2px rgba(60, 64, 67, 0.3), 0px 1px 3px 1px rgba(60, 64, 67, 0.15);\n",
              "      fill: #174EA6;\n",
              "    }\n",
              "\n",
              "    .colab-df-buttons div {\n",
              "      margin-bottom: 4px;\n",
              "    }\n",
              "\n",
              "    [theme=dark] .colab-df-convert {\n",
              "      background-color: #3B4455;\n",
              "      fill: #D2E3FC;\n",
              "    }\n",
              "\n",
              "    [theme=dark] .colab-df-convert:hover {\n",
              "      background-color: #434B5C;\n",
              "      box-shadow: 0px 1px 3px 1px rgba(0, 0, 0, 0.15);\n",
              "      filter: drop-shadow(0px 1px 2px rgba(0, 0, 0, 0.3));\n",
              "      fill: #FFFFFF;\n",
              "    }\n",
              "  </style>\n",
              "\n",
              "    <script>\n",
              "      const buttonEl =\n",
              "        document.querySelector('#df-63738a60-3f12-4e3a-8a35-3b467104f8b7 button.colab-df-convert');\n",
              "      buttonEl.style.display =\n",
              "        google.colab.kernel.accessAllowed ? 'block' : 'none';\n",
              "\n",
              "      async function convertToInteractive(key) {\n",
              "        const element = document.querySelector('#df-63738a60-3f12-4e3a-8a35-3b467104f8b7');\n",
              "        const dataTable =\n",
              "          await google.colab.kernel.invokeFunction('convertToInteractive',\n",
              "                                                    [key], {});\n",
              "        if (!dataTable) return;\n",
              "\n",
              "        const docLinkHtml = 'Like what you see? Visit the ' +\n",
              "          '<a target=\"_blank\" href=https://colab.research.google.com/notebooks/data_table.ipynb>data table notebook</a>'\n",
              "          + ' to learn more about interactive tables.';\n",
              "        element.innerHTML = '';\n",
              "        dataTable['output_type'] = 'display_data';\n",
              "        await google.colab.output.renderOutput(dataTable, element);\n",
              "        const docLink = document.createElement('div');\n",
              "        docLink.innerHTML = docLinkHtml;\n",
              "        element.appendChild(docLink);\n",
              "      }\n",
              "    </script>\n",
              "  </div>\n",
              "\n",
              "\n",
              "<div id=\"df-7d3093e8-6f8c-4c47-a7d8-cfa49225e69a\">\n",
              "  <button class=\"colab-df-quickchart\" onclick=\"quickchart('df-7d3093e8-6f8c-4c47-a7d8-cfa49225e69a')\"\n",
              "            title=\"Suggest charts\"\n",
              "            style=\"display:none;\">\n",
              "\n",
              "<svg xmlns=\"http://www.w3.org/2000/svg\" height=\"24px\"viewBox=\"0 0 24 24\"\n",
              "     width=\"24px\">\n",
              "    <g>\n",
              "        <path d=\"M19 3H5c-1.1 0-2 .9-2 2v14c0 1.1.9 2 2 2h14c1.1 0 2-.9 2-2V5c0-1.1-.9-2-2-2zM9 17H7v-7h2v7zm4 0h-2V7h2v10zm4 0h-2v-4h2v4z\"/>\n",
              "    </g>\n",
              "</svg>\n",
              "  </button>\n",
              "\n",
              "<style>\n",
              "  .colab-df-quickchart {\n",
              "      --bg-color: #E8F0FE;\n",
              "      --fill-color: #1967D2;\n",
              "      --hover-bg-color: #E2EBFA;\n",
              "      --hover-fill-color: #174EA6;\n",
              "      --disabled-fill-color: #AAA;\n",
              "      --disabled-bg-color: #DDD;\n",
              "  }\n",
              "\n",
              "  [theme=dark] .colab-df-quickchart {\n",
              "      --bg-color: #3B4455;\n",
              "      --fill-color: #D2E3FC;\n",
              "      --hover-bg-color: #434B5C;\n",
              "      --hover-fill-color: #FFFFFF;\n",
              "      --disabled-bg-color: #3B4455;\n",
              "      --disabled-fill-color: #666;\n",
              "  }\n",
              "\n",
              "  .colab-df-quickchart {\n",
              "    background-color: var(--bg-color);\n",
              "    border: none;\n",
              "    border-radius: 50%;\n",
              "    cursor: pointer;\n",
              "    display: none;\n",
              "    fill: var(--fill-color);\n",
              "    height: 32px;\n",
              "    padding: 0;\n",
              "    width: 32px;\n",
              "  }\n",
              "\n",
              "  .colab-df-quickchart:hover {\n",
              "    background-color: var(--hover-bg-color);\n",
              "    box-shadow: 0 1px 2px rgba(60, 64, 67, 0.3), 0 1px 3px 1px rgba(60, 64, 67, 0.15);\n",
              "    fill: var(--button-hover-fill-color);\n",
              "  }\n",
              "\n",
              "  .colab-df-quickchart-complete:disabled,\n",
              "  .colab-df-quickchart-complete:disabled:hover {\n",
              "    background-color: var(--disabled-bg-color);\n",
              "    fill: var(--disabled-fill-color);\n",
              "    box-shadow: none;\n",
              "  }\n",
              "\n",
              "  .colab-df-spinner {\n",
              "    border: 2px solid var(--fill-color);\n",
              "    border-color: transparent;\n",
              "    border-bottom-color: var(--fill-color);\n",
              "    animation:\n",
              "      spin 1s steps(1) infinite;\n",
              "  }\n",
              "\n",
              "  @keyframes spin {\n",
              "    0% {\n",
              "      border-color: transparent;\n",
              "      border-bottom-color: var(--fill-color);\n",
              "      border-left-color: var(--fill-color);\n",
              "    }\n",
              "    20% {\n",
              "      border-color: transparent;\n",
              "      border-left-color: var(--fill-color);\n",
              "      border-top-color: var(--fill-color);\n",
              "    }\n",
              "    30% {\n",
              "      border-color: transparent;\n",
              "      border-left-color: var(--fill-color);\n",
              "      border-top-color: var(--fill-color);\n",
              "      border-right-color: var(--fill-color);\n",
              "    }\n",
              "    40% {\n",
              "      border-color: transparent;\n",
              "      border-right-color: var(--fill-color);\n",
              "      border-top-color: var(--fill-color);\n",
              "    }\n",
              "    60% {\n",
              "      border-color: transparent;\n",
              "      border-right-color: var(--fill-color);\n",
              "    }\n",
              "    80% {\n",
              "      border-color: transparent;\n",
              "      border-right-color: var(--fill-color);\n",
              "      border-bottom-color: var(--fill-color);\n",
              "    }\n",
              "    90% {\n",
              "      border-color: transparent;\n",
              "      border-bottom-color: var(--fill-color);\n",
              "    }\n",
              "  }\n",
              "</style>\n",
              "\n",
              "  <script>\n",
              "    async function quickchart(key) {\n",
              "      const quickchartButtonEl =\n",
              "        document.querySelector('#' + key + ' button');\n",
              "      quickchartButtonEl.disabled = true;  // To prevent multiple clicks.\n",
              "      quickchartButtonEl.classList.add('colab-df-spinner');\n",
              "      try {\n",
              "        const charts = await google.colab.kernel.invokeFunction(\n",
              "            'suggestCharts', [key], {});\n",
              "      } catch (error) {\n",
              "        console.error('Error during call to suggestCharts:', error);\n",
              "      }\n",
              "      quickchartButtonEl.classList.remove('colab-df-spinner');\n",
              "      quickchartButtonEl.classList.add('colab-df-quickchart-complete');\n",
              "    }\n",
              "    (() => {\n",
              "      let quickchartButtonEl =\n",
              "        document.querySelector('#df-7d3093e8-6f8c-4c47-a7d8-cfa49225e69a button');\n",
              "      quickchartButtonEl.style.display =\n",
              "        google.colab.kernel.accessAllowed ? 'block' : 'none';\n",
              "    })();\n",
              "  </script>\n",
              "</div>\n",
              "\n",
              "    </div>\n",
              "  </div>\n"
            ],
            "application/vnd.google.colaboratory.intrinsic+json": {
              "type": "dataframe",
              "summary": "{\n  \"name\": \"nearest_stations_data_dfs[0]\",\n  \"rows\": 5,\n  \"fields\": [\n    {\n      \"column\": \"Global horizontal irradiance / kJ/m2\",\n      \"properties\": {\n        \"dtype\": \"number\",\n        \"std\": 0.0,\n        \"min\": -0.5786521929955556,\n        \"max\": -0.5786521929955556,\n        \"num_unique_values\": 1,\n        \"samples\": [\n          -0.5786521929955556\n        ],\n        \"semantic_type\": \"\",\n        \"description\": \"\"\n      }\n    },\n    {\n      \"column\": \"Direct normal irradiance / kJ/m2\",\n      \"properties\": {\n        \"dtype\": \"number\",\n        \"std\": 0.0,\n        \"min\": -0.41402778365663107,\n        \"max\": -0.41402778365663107,\n        \"num_unique_values\": 1,\n        \"samples\": [\n          -0.41402778365663107\n        ],\n        \"semantic_type\": \"\",\n        \"description\": \"\"\n      }\n    },\n    {\n      \"column\": \"Diffuse horizontal irradiance / kJ/m2\",\n      \"properties\": {\n        \"dtype\": \"number\",\n        \"std\": 0.0,\n        \"min\": -0.6594941255602742,\n        \"max\": -0.6594941255602742,\n        \"num_unique_values\": 1,\n        \"samples\": [\n          -0.6594941255602742\n        ],\n        \"semantic_type\": \"\",\n        \"description\": \"\"\n      }\n    },\n    {\n      \"column\": \"Wind speed / 0.1 m/s\",\n      \"properties\": {\n        \"dtype\": \"number\",\n        \"std\": 0.13067177855098214,\n        \"min\": 0.596278403749727,\n        \"max\": 0.9341116589906306,\n        \"num_unique_values\": 4,\n        \"samples\": [\n          0.7018512960125094\n        ],\n        \"semantic_type\": \"\",\n        \"description\": \"\"\n      }\n    },\n    {\n      \"column\": \"wind_dir_sin\",\n      \"properties\": {\n        \"dtype\": \"number\",\n        \"std\": 0.0,\n        \"min\": -0.5681880560893774,\n        \"max\": -0.5681880560893774,\n        \"num_unique_values\": 1,\n        \"samples\": [\n          -0.5681880560893774\n        ],\n        \"semantic_type\": \"\",\n        \"description\": \"\"\n      }\n    },\n    {\n      \"column\": \"wind_dir_cos\",\n      \"properties\": {\n        \"dtype\": \"number\",\n        \"std\": 1.2412670766236366e-16,\n        \"min\": 0.8228987379485854,\n        \"max\": 0.8228987379485854,\n        \"num_unique_values\": 1,\n        \"samples\": [\n          0.8228987379485854\n        ],\n        \"semantic_type\": \"\",\n        \"description\": \"\"\n      }\n    },\n    {\n      \"column\": \"distanceX\",\n      \"properties\": {\n        \"dtype\": \"number\",\n        \"std\": 0.0,\n        \"min\": -8503.660761554089,\n        \"max\": -8503.660761554089,\n        \"num_unique_values\": 1,\n        \"samples\": [\n          -8503.660761554089\n        ],\n        \"semantic_type\": \"\",\n        \"description\": \"\"\n      }\n    },\n    {\n      \"column\": \"distanceY\",\n      \"properties\": {\n        \"dtype\": \"number\",\n        \"std\": 0.0,\n        \"min\": 6037.88451679954,\n        \"max\": 6037.88451679954,\n        \"num_unique_values\": 1,\n        \"samples\": [\n          6037.88451679954\n        ],\n        \"semantic_type\": \"\",\n        \"description\": \"\"\n      }\n    }\n  ]\n}"
            }
          },
          "metadata": {},
          "execution_count": 56
        }
      ]
    },
    {
      "cell_type": "code",
      "source": [
        "def denormalizeHourOrMonth(anglesin, anglecos, cycleLength):\n",
        "  angle = np.arctan2(anglesin, anglecos)\n",
        "  cycleBeforeModulo = (angle / (2 * np.pi)) * cycleLength + 1\n",
        "  return (cycleBeforeModulo % cycleLength)"
      ],
      "metadata": {
        "id": "W66-d_36pMK0"
      },
      "execution_count": null,
      "outputs": []
    },
    {
      "cell_type": "code",
      "source": [
        "def cyclicalEncoding(data, cycleLength):\n",
        "  newDatasin = np.sin(2 * np.pi * (data - 1) / cycleLength)  # Sine encoding for hours (adjust for 0-23)\n",
        "  newDatacos = np.cos(2 * np.pi * (data - 1) / cycleLength)  # Cosine encoding for hours (adjust for 0-23)\n",
        "  return newDatasin, newDatacos"
      ],
      "metadata": {
        "id": "7qb5FbC12EHW"
      },
      "execution_count": null,
      "outputs": []
    },
    {
      "cell_type": "code",
      "source": [
        "# angle = np.arctan2(newDatasin,newDatacos)\n",
        "# hour = (angle / (2 * np.pi)) * 24 + 1\n",
        "# hour = hour % 24\n",
        "# hour\n",
        "# plt.plot(np.unique(hour))\n",
        "# funcHour = denormalizeHourOrMonth(newDatasin,newDatacos, 24)\n",
        "# plt.plot(np.unique(funcHour))\n",
        "idx = 2\n",
        "inputsin, inputcos = cyclicalEncoding(inputs[idx,:,5],24)#inputs moved by 2 here as used to have hour and month still in dfs\n",
        "inputsin = inputsin.to(torch.float32)\n",
        "inputcos = inputcos.to(torch.float32)\n",
        "funcolourHour = denormalizeHourOrMonth(inputsin, inputcos, 24)\n",
        "plt.plot(funcolourHour, label=\"denomarlized Inputs List\", marker='.')\n",
        "funcolourHour = denormalizeHourOrMonth(inputs[idx,:,6], inputs[idx,:,7], 24)\n",
        "plt.plot(funcolourHour, label=\"denomarlized Inputs Cos and Sine List\", marker='.')\n",
        "#plt.plot(inputs[idx,:,5], label=\"Inputs real\", marker='.')\n",
        "plt.legend()\n",
        "plt.grid()\n",
        "plt.yticks(np.arange(0,25,1))\n",
        "plt.show()\n",
        "print(inputsin)\n",
        "print(inputs[idx,:,6] )  #MODULUS ISSUE SHOWING THEY ARE EQUIVALENT! Just a floating point number problem\n",
        "#First one of inputsin is negative and first one of inputs[idx,:,6] is slightly positive so goes in opposite direction when arctaned\n",
        "#This results in the hours being off by 1 when DENORMALIZED\n",
        "# print(inputcos)\n",
        "# print(inputs[idx,:,7])"
      ],
      "metadata": {
        "colab": {
          "base_uri": "https://localhost:8080/",
          "height": 680
        },
        "id": "pwrTeyh2ilj_",
        "outputId": "20a240e4-5e75-4136-f906-4b0d7b2234e7"
      },
      "execution_count": null,
      "outputs": [
        {
          "output_type": "stream",
          "name": "stderr",
          "text": [
            "<ipython-input-198-2fa038852f8b>:2: DeprecationWarning: __array_wrap__ must accept context and return_scalar arguments (positionally) in the future. (Deprecated NumPy 2.0)\n",
            "  newDatasin = np.sin(2 * np.pi * (data - 1) / cycleLength)  # Sine encoding for hours (adjust for 0-23)\n",
            "<ipython-input-198-2fa038852f8b>:3: DeprecationWarning: __array_wrap__ must accept context and return_scalar arguments (positionally) in the future. (Deprecated NumPy 2.0)\n",
            "  newDatacos = np.cos(2 * np.pi * (data - 1) / cycleLength)  # Cosine encoding for hours (adjust for 0-23)\n"
          ]
        },
        {
          "output_type": "display_data",
          "data": {
            "text/plain": [
              "<Figure size 640x480 with 1 Axes>"
            ],
            "image/png": "[encoded data removed]"
          },
          "metadata": {}
        },
        {
          "output_type": "stream",
          "name": "stdout",
          "text": [
            "tensor([-8.7423e-08, -2.5882e-01, -5.0000e-01, -7.0711e-01, -8.6603e-01,\n",
            "        -9.6593e-01, -1.0000e+00, -9.6593e-01, -8.6603e-01, -7.0711e-01,\n",
            "        -5.0000e-01, -2.5882e-01,  0.0000e+00,  2.5882e-01,  5.0000e-01,\n",
            "         7.0711e-01,  8.6603e-01,  9.6593e-01,  1.0000e+00,  9.6593e-01,\n",
            "         8.6603e-01,  7.0711e-01,  5.0000e-01,  2.5882e-01])\n",
            "tensor([ 1.2246e-16, -2.5882e-01, -5.0000e-01, -7.0711e-01, -8.6603e-01,\n",
            "        -9.6593e-01, -1.0000e+00, -9.6593e-01, -8.6603e-01, -7.0711e-01,\n",
            "        -5.0000e-01, -2.5882e-01,  0.0000e+00,  2.5882e-01,  5.0000e-01,\n",
            "         7.0711e-01,  8.6603e-01,  9.6593e-01,  1.0000e+00,  9.6593e-01,\n",
            "         8.6603e-01,  7.0711e-01,  5.0000e-01,  2.5882e-01])\n"
          ]
        }
      ]
    },
    {
      "cell_type": "code",
      "source": [
        "funcolourHour = denormalizeHourOrMonth(colourList[:,6], colourList[:,7], 24)\n",
        "#plt.scatter(funcolourHour[0:50],colourList[0:50,6], label=\"denomarlized Colour List\", marker='.')\n",
        "plt.scatter(colourList[0:50,5],colourList[0:50,6], label=\"colourList\", marker='.')\n",
        "plt.legend()\n",
        "plt.grid()\n",
        "\n",
        "plt.show()"
      ],
      "metadata": {
        "colab": {
          "base_uri": "https://localhost:8080/",
          "height": 430
        },
        "id": "MhO36Zk_wocV",
        "outputId": "602dec48-1500-4696-8a18-34d27279b9ce"
      },
      "execution_count": null,
      "outputs": [
        {
          "output_type": "display_data",
          "data": {
            "text/plain": [
              "<Figure size 640x480 with 1 Axes>"
            ],
            "image/png": "[encoded data removed]"
          },
          "metadata": {}
        }
      ]
    }
  ]
}