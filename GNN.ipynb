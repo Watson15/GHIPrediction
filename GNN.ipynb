{
 "cells": [
  {
   "cell_type": "markdown",
   "id": "9677492d",
   "metadata": {},
   "source": [
    "# Trying out a GNN for wind speed and direction"
   ]
  },
  {
   "cell_type": "markdown",
   "id": "f643f503",
   "metadata": {},
   "source": [
    "#### 1. Represent the problem as a graph\n",
    "\n",
    "A GNN operates on graphs, so first we need a graph structure:\n",
    "\n",
    "* Nodes: Each station is a node.\n",
    "* Node features:\n",
    "\t* Wind speed\n",
    "\t* Wind direction (often split into sin and cos to handle circularity)\n",
    "\t* Elevation\n",
    "\t* Latitude and longitude (or some positional embedding)\n",
    "\t* Possibly past wind history if you want temporal modeling\n",
    "\n",
    "* Edges: Represent relationships between stations.\n",
    "\t* You could connect stations that are geographically close.\n",
    "\t* Edge weight could be inverse distance or correlation of wind patterns.\n",
    "\t* Or use a fully connected graph with learned edge weights.\n",
    "\n",
    "#### 2. Node features preparation\n",
    "\n",
    "For each station 𝑖, create a feature vector:\n",
    "\n",
    "\t𝑥𝑖=[wind speed,sin(wind dir),cos(wind dir),elevation,lat,lon]\n",
    "\n",
    "If you have temporal data (e.g., last 24h of wind), you can include time-series features using RNN/LSTM or temporal GNNs.\n",
    "\n",
    "#### 3. Build the adjacency matrix\n",
    "\n",
    "Define which stations are connected:\n",
    "\n",
    "* Distance-based adjacency:\n",
    "\n",
    "\t\t𝐴𝑖𝑗=exp(−dij^2/σ^2)\n",
    "\n",
    "\twhere 𝑑𝑖𝑗 is the geographic distance between stations 𝑖 and 𝑗.\n",
    "\n",
    "* K-nearest neighbors: Connect each node to its k nearest stations.\n",
    "\n",
    "* Fully connected: If few stations, you can connect all nodes.\n",
    "\n",
    "#### 4. Choose a GNN model\n",
    "\n",
    "Common GNN layers:\n",
    "* Graph Convolutional Network (GCN) – aggregates features from neighbors.\n",
    "* Graph Attention Network (GAT) – uses attention to weigh neighbor contributions.\n",
    "* Message Passing Neural Network (MPNN) – general framework for node updates.\n",
    "\n",
    "For wind prediction, GAT is often good if some stations are more influential than others.\n",
    "\n",
    "#### 5. Define your task\n",
    "\n",
    "Depends on your goal:\n",
    "* Predict future wind at each station → Node-level regression.\n",
    "* Predict overall wind pattern → Graph-level regression.\n",
    "* Classify extreme events (storm/no storm) → Node-level classification.\n",
    "\n",
    "Loss function:\n",
    "* Regression: MSE, MAE\n",
    "* Classification: Cross-entropy\n",
    "\n",
    "#### 6. Implementation sketch in PyTorch Geometric"
   ]
  },
  {
   "cell_type": "code",
   "execution_count": null,
   "id": "4936ab61",
   "metadata": {
    "vscode": {
     "languageId": "plaintext"
    }
   },
   "outputs": [],
   "source": [
    "#pip install torch torch_geometric\n",
    "import torch\n",
    "import torch.nn.functional as F\n",
    "from torch_geometric.nn import GCNConv, GATConv\n",
    "from torch_geometric.data import Data\n",
    "\n",
    "# Example node features: N stations, 6 features each\n",
    "x = torch.tensor([...], dtype=torch.float)  # shape [N, 6]\n",
    "\n",
    "# Example edges\n",
    "edge_index = torch.tensor([[0,1,1,2],\n",
    "                           [1,0,2,1]], dtype=torch.long)  # shape [2, E]\n",
    "\n",
    "data = Data(x=x, edge_index=edge_index)\n",
    "\n",
    "class GNN(torch.nn.Module):\n",
    "    def __init__(self, in_channels, hidden_channels, out_channels):\n",
    "        super().__init__()\n",
    "        self.conv1 = GATConv(in_channels, hidden_channels)\n",
    "        self.conv2 = GATConv(hidden_channels, out_channels)\n",
    "    \n",
    "    def forward(self, data):\n",
    "        x, edge_index = data.x, data.edge_index\n",
    "        x = F.relu(self.conv1(x, edge_index))\n",
    "        x = self.conv2(x, edge_index)\n",
    "        return x\n",
    "\n",
    "model = GNN(in_channels=6, hidden_channels=16, out_channels=1)  # predict wind speed\n",
    "out = model(data)\n"
   ]
  },
  {
   "cell_type": "markdown",
   "id": "718ababf",
   "metadata": {},
   "source": [
    "#### 7. Optional improvements\n",
    "\n",
    "Temporal modeling: Use TemporalGNN or combine LSTM for past wind history per node.\n",
    "\n",
    "Edge features: Include wind correlation or distance as edge features.\n",
    "\n",
    "Normalization: Normalize wind, elevation, lat/lon."
   ]
  },
  {
   "cell_type": "markdown",
   "id": "dfedb4eb",
   "metadata": {},
   "source": []
  }
 ],
 "metadata": {
  "language_info": {
   "name": "python"
  }
 },
 "nbformat": 4,
 "nbformat_minor": 5
}
